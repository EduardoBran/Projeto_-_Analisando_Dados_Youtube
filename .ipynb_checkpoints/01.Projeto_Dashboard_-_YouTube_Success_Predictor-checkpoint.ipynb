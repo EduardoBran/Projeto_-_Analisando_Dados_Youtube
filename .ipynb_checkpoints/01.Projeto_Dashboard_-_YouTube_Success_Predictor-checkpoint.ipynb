{
 "cells": [
  {
   "cell_type": "markdown",
   "id": "1b4fd1bd",
   "metadata": {},
   "source": [
    "# <span style=\"color: green; font-size: 40px; font-weight: bold;\"> Projeto Dashboard para Visualização </span>\n",
    "\n",
    "<br> <br>\n",
    "\n",
    "# Projeto YouTube Success Predictor"
   ]
  },
  {
   "cell_type": "code",
   "execution_count": null,
   "id": "4638a10b",
   "metadata": {},
   "outputs": [],
   "source": []
  },
  {
   "cell_type": "code",
   "execution_count": null,
   "id": "b848d1dd",
   "metadata": {},
   "outputs": [],
   "source": []
  },
  {
   "cell_type": "code",
   "execution_count": 154,
   "id": "58bcce0d",
   "metadata": {},
   "outputs": [
    {
     "data": {
      "text/html": [
       "\n",
       "        <iframe\n",
       "            width=\"100%\"\n",
       "            height=\"650\"\n",
       "            src=\"http://127.0.0.1:8050/\"\n",
       "            frameborder=\"0\"\n",
       "            allowfullscreen\n",
       "            \n",
       "        ></iframe>\n",
       "        "
      ],
      "text/plain": [
       "<IPython.lib.display.IFrame at 0x7fabcc746d30>"
      ]
     },
     "metadata": {},
     "output_type": "display_data"
    }
   ],
   "source": [
    "import dash\n",
    "from dash import dcc, html\n",
    "from dash.dependencies import Input, Output, State\n",
    "import plotly.express as px\n",
    "import plotly.graph_objects as go\n",
    "from plotly.subplots import make_subplots\n",
    "import pandas as pd\n",
    "\n",
    "# Carregar os DataFrames salvos\n",
    "total_criacao_mes = pd.read_csv('dashboard_visualizacao/total_criacao_mes.csv')\n",
    "total_criacao_ano = pd.read_csv('dashboard_visualizacao/total_criacao_ano.csv')\n",
    "total_videos_mes = pd.read_csv('dashboard_visualizacao/total_videos_mes.csv')\n",
    "total_videos_ano = pd.read_csv('dashboard_visualizacao/total_videos_ano.csv')\n",
    "total_visualizacoes_mes = pd.read_csv('dashboard_visualizacao/total_visualizacoes_mes.csv')\n",
    "total_visualizacoes_ano = pd.read_csv('dashboard_visualizacao/total_visualizacoes_ano.csv')\n",
    "taxa_crescimento_visualizacoes_ano = pd.read_csv('dashboard_visualizacao/taxa_crescimento_visualizacoes_ano.csv')\n",
    "\n",
    "# Carregar dados adicionais para mapas\n",
    "dados = pd.read_csv('dashboard_visualizacao/dados_da.csv')\n",
    "\n",
    "# Carregar dados de tipo de canal por país\n",
    "dados_tipo_canal = pd.read_csv('dashboard_visualizacao/dados_tipo_canal.csv')\n",
    "\n",
    "# Calcular a média dos ganhos mensais estimados mínimos para cada país\n",
    "media_ganhos_pais = dados.groupby('pais')['ganhos_mensais_estimados_minimo'].mean().reset_index()\n",
    "media_ganhos_pais['ganhos_mensais_estimados_minimo'] = media_ganhos_pais['ganhos_mensais_estimados_minimo'].apply(lambda x: round(x, 2))\n",
    "\n",
    "# Calcular a média da relação PIB per capita x ganhos mensais estimados mínimos para cada país\n",
    "media_relacao_pib_pais = dados.groupby('pais')['relacao_pib_per_capita_x_ganhos_mensais_estimados_minimo'].mean().reset_index()\n",
    "media_relacao_pib_pais['relacao_pib_per_capita_x_ganhos_mensais_estimados_minimo'] = media_relacao_pib_pais['relacao_pib_per_capita_x_ganhos_mensais_estimados_minimo'].apply(lambda x: round(x, 2))\n",
    "\n",
    "# Converter 'data_criacao' para datetime\n",
    "total_criacao_mes['data_criacao'] = pd.to_datetime(total_criacao_mes['data_criacao'])\n",
    "total_videos_mes['data_criacao'] = pd.to_datetime(total_videos_mes['data_criacao'])\n",
    "total_visualizacoes_mes['data_criacao'] = pd.to_datetime(total_visualizacoes_mes['data_criacao'])\n",
    "\n",
    "# Lista dos meses\n",
    "meses = [\"Janeiro\", \"Fevereiro\", \"Março\", \"Abril\", \"Maio\", \"Junho\", \n",
    "         \"Julho\", \"Agosto\", \"Setembro\", \"Outubro\", \"Novembro\", \"Dezembro\"]\n",
    "\n",
    "# Mapear os meses para nomes em português\n",
    "total_criacao_mes['mes'] = total_criacao_mes['data_criacao'].dt.month.map({1: 'Janeiro', 2: 'Fevereiro', 3: 'Março', 4: 'Abril', 5: 'Maio', 6: 'Junho',\n",
    "                                                                            7: 'Julho', 8: 'Agosto', 9: 'Setembro', 10: 'Outubro', 11: 'Novembro', 12: 'Dezembro'})\n",
    "total_criacao_mes['mes'] = pd.Categorical(total_criacao_mes['mes'], categories=meses, ordered=True)\n",
    "\n",
    "total_videos_mes['mes'] = total_videos_mes['data_criacao'].dt.month.map({1: 'Janeiro', 2: 'Fevereiro', 3: 'Março', 4: 'Abril', 5: 'Maio', 6: 'Junho',\n",
    "                                                                          7: 'Julho', 8: 'Agosto', 9: 'Setembro', 10: 'Outubro', 11: 'Novembro', 12: 'Dezembro'})\n",
    "total_videos_mes['mes'] = pd.Categorical(total_videos_mes['mes'], categories=meses, ordered=True)\n",
    "\n",
    "total_visualizacoes_mes['mes'] = total_visualizacoes_mes['data_criacao'].dt.month.map({1: 'Janeiro', 2: 'Fevereiro', 3: 'Março', 4: 'Abril', 5: 'Maio', 6: 'Junho',\n",
    "                                                                                      7: 'Julho', 8: 'Agosto', 9: 'Setembro', 10: 'Outubro', 11: 'Novembro', 12: 'Dezembro'})\n",
    "total_visualizacoes_mes['mes'] = pd.Categorical(total_visualizacoes_mes['mes'], categories=meses, ordered=True)\n",
    "\n",
    "# Agrupar dados por mês para remover as listras\n",
    "total_criacao_mes = total_criacao_mes.groupby('mes').sum().reset_index()\n",
    "total_videos_mes = total_videos_mes.groupby('mes').sum().reset_index()\n",
    "total_visualizacoes_mes = total_visualizacoes_mes.groupby('mes').sum().reset_index()\n",
    "\n",
    "# Inicializa a aplicação Dash\n",
    "app = dash.Dash(__name__)\n",
    "\n",
    "# Função para criar gráficos de barras\n",
    "def create_bar_chart(data, x_col, y_col, title, xaxis_title):\n",
    "    fig = px.bar(data, x=x_col, y=y_col, title=title)\n",
    "    fig.update_layout(xaxis_title=xaxis_title, yaxis_title='Total')\n",
    "    fig.update_xaxes(type='category')\n",
    "    return fig\n",
    "\n",
    "# Função para criar gráficos de mapa\n",
    "def create_map(data, color_col, title):\n",
    "    hover_template = {\n",
    "        'ganhos_mensais_estimados_minimo': '<b>%{location}</b><br>Média de Ganhos Mensais Estimados Por Canal: U$$ %{z:,.2f}<extra></extra>',\n",
    "        'total_usuarios_estimado_por_pais': '<b>%{location}</b><br>Total de Usuários Estimados por País: %{customdata[0]}<extra></extra>',\n",
    "        'proporcao_usuarios_youtube_x_populacao_pais': '<b>%{location}</b><br>Proporção de Usuários do YouTube x População do País: Aproximadamente %{z:.0%} da população<extra></extra>',\n",
    "        'relacao_pib_per_capita_x_ganhos_mensais_estimados_minimo': '<b>%{location}</b><br>Relação PIB Per Capita x Ganhos Mensais Estimados Mínimos: U$$ %{z:,.2f}<extra></extra>'\n",
    "    }\n",
    "    \n",
    "    if color_col == 'total_usuarios_estimado_por_pais':\n",
    "        data['customdata'] = data[color_col].apply(lambda x: f'{x / 1e6:.1f} milhões' if x >= 1e6 else f'{x:,.0f} mil')\n",
    "    else:\n",
    "        data['customdata'] = data[color_col]\n",
    "\n",
    "    fig = px.choropleth(data, locations='pais', locationmode='country names', color=color_col,\n",
    "                        hover_name='pais', title=title, color_continuous_scale=px.colors.sequential.Plasma,\n",
    "                        custom_data=['customdata'])\n",
    "    fig.update_geos(projection_type=\"natural earth\")\n",
    "    fig.update_layout(\n",
    "        margin={\"r\":0,\"t\":0,\"l\":0,\"b\":0},\n",
    "        geo=dict(\n",
    "            showframe=False,\n",
    "            showcoastlines=True,\n",
    "            coastlinecolor=\"Black\",\n",
    "            showland=True,\n",
    "            landcolor=\"white\",\n",
    "            showocean=True,\n",
    "            oceancolor=\"LightBlue\",\n",
    "            showlakes=True,\n",
    "            lakecolor=\"LightBlue\"\n",
    "        )\n",
    "    )\n",
    "    # Formatar o texto ao passar o mouse\n",
    "    fig.update_traces(\n",
    "        hovertemplate=hover_template[color_col]\n",
    "    )\n",
    "    return fig\n",
    "\n",
    "# Função para criar gráficos de treemap\n",
    "def create_treemap(data, path_col, value_col, title):\n",
    "    unique_types = data[path_col[0]].nunique()  # Contar o número de tipos únicos de canal\n",
    "\n",
    "    if unique_types == 1:\n",
    "        # Definir a cor manualmente quando há apenas um tipo de canal\n",
    "        fig = px.treemap(data, path=path_col, values=value_col, title=title)\n",
    "        fig.update_traces(marker=dict(colors=[\"#1f77b4\"]))  # Usar uma cor específica\n",
    "    else:\n",
    "        fig = px.treemap(data, path=path_col, values=value_col, title=title)\n",
    "\n",
    "    fig.update_traces(textinfo=\"label\", hovertemplate=\"%{label}<br>Contagem: %{value}<extra></extra>\")\n",
    "    return fig\n",
    "\n",
    "# Função para criar gráficos de bolhas\n",
    "def create_bubble_chart(data, x_col, y_col, size_col, title):\n",
    "    fig = px.scatter(data, x=x_col, y=y_col, size=size_col, title=title, hover_name='nome_do_canal', size_max=60)\n",
    "    fig.update_layout(xaxis_title=x_col, yaxis_title=y_col)\n",
    "    return fig\n",
    "\n",
    "# Função para criar gráficos de comparação\n",
    "def create_comparison_chart(canal_info, dados):\n",
    "    tipo_canal = canal_info['tipo_do_canal']\n",
    "    pais = canal_info['pais']\n",
    "    \n",
    "    # Selecionar apenas colunas numéricas para calcular a média\n",
    "    numeric_cols = ['total_de_inscritos', 'total_de_visualizacoes', 'total_de_videos_publicado', 'ganhos_mensais_estimados_minimo']\n",
    "    media_tipo_canal = dados[dados['tipo_do_canal'] == tipo_canal][numeric_cols].mean()\n",
    "    media_pais = dados[dados['pais'] == pais][numeric_cols].mean()\n",
    "\n",
    "    fig = make_subplots(rows=2, cols=2, subplot_titles=[\n",
    "        'Inscritos do Canal vs Média do Tipo', \n",
    "        'Visualizações do Canal vs Média do Tipo', \n",
    "        'Vídeos Publicados do Canal vs Média do Tipo',\n",
    "        'Ganhos Mensais do Canal vs Média do Tipo'\n",
    "    ])\n",
    "\n",
    "    fig.add_trace(go.Bar(name='Canal', x=['Inscritos'], y=[canal_info['total_de_inscritos']]), row=1, col=1)\n",
    "    fig.add_trace(go.Bar(name='Média Tipo', x=['Inscritos'], y=[media_tipo_canal['total_de_inscritos']]), row=1, col=1)\n",
    "    \n",
    "    fig.add_trace(go.Bar(name='Canal', x=['Visualizações'], y=[canal_info['total_de_visualizacoes']]), row=1, col=2)\n",
    "    fig.add_trace(go.Bar(name='Média Tipo', x=['Visualizações'], y=[media_tipo_canal['total_de_visualizacoes']]), row=1, col=2)\n",
    "    \n",
    "    fig.add_trace(go.Bar(name='Canal', x=['Vídeos Publicados'], y=[canal_info['total_de_videos_publicado']]), row=2, col=1)\n",
    "    fig.add_trace(go.Bar(name='Média Tipo', x=['Vídeos Publicados'], y=[media_tipo_canal['total_de_videos_publicado']]), row=2, col=1)\n",
    "    \n",
    "    fig.add_trace(go.Bar(name='Canal', x=['Ganhos Mensais'], y=[canal_info['ganhos_mensais_estimados_minimo']]), row=2, col=2)\n",
    "    fig.add_trace(go.Bar(name='Média Tipo', x=['Ganhos Mensais'], y=[media_tipo_canal['ganhos_mensais_estimados_minimo']]), row=2, col=2)\n",
    "\n",
    "    fig.update_layout(title_text=\"Comparação do Canal com Média do Tipo e País\", barmode='group')\n",
    "    \n",
    "    return fig\n",
    "\n",
    "# Layout da aplicação\n",
    "app.layout = html.Div([\n",
    "    dcc.Tabs([\n",
    "        dcc.Tab(label='Visão Geral', children=[\n",
    "            html.Div([\n",
    "                html.H3('Selecione o Gráfico para Visualizar:'),\n",
    "                dcc.Dropdown(\n",
    "                    id='grafico-dropdown',\n",
    "                    options=[\n",
    "                        {'label': 'Top 10 canais com mais inscritos (Barras)', 'value': 'top_10_inscritos_barras'},\n",
    "                        {'label': 'Top 30 canais com mais inscritos (Treemap)', 'value': 'top_30_inscritos_treemap'},\n",
    "                        {'label': 'Top 10 canais com mais vídeos publicados (Barras)', 'value': 'top_10_videos_barras'},\n",
    "                        {'label': 'Top 30 canais com mais vídeos publicados (Treemap)', 'value': 'top_30_videos_treemap'},\n",
    "                        {'label': 'Top 10 canais com mais visualizações (Barras)', 'value': 'top_10_visualizacoes_barras'},\n",
    "                        {'label': 'Top 30 canais com mais visualizações (Bolhas)', 'value': 'top_30_visualizacoes_bolhas'},\n",
    "                        {'label': 'Total de Criação de Canal Por Mês', 'value': 'total_criacao_mes'},\n",
    "                        {'label': 'Total de Criação de Canal Por Ano', 'value': 'total_criacao_ano'},\n",
    "                        {'label': 'Total de Vídeos Publicados por Mês', 'value': 'total_videos_mes'},\n",
    "                        {'label': 'Total de Vídeos Publicados por Ano', 'value': 'total_videos_ano'},\n",
    "                        {'label': 'Total de Vídeos Visualizados por Mês', 'value': 'total_visualizacoes_mes'},\n",
    "                        {'label': 'Total de Vídeos Visualizados por Ano', 'value': 'total_visualizacoes_ano'},\n",
    "                        {'label': 'Taxa de Crescimento de Visualizações por Ano', 'value': 'taxa_crescimento_visualizacoes_ano'}\n",
    "                    ],\n",
    "                    value='top_10_inscritos_barras',\n",
    "                    clearable=False\n",
    "                ),\n",
    "                dcc.Graph(id='grafico-visualizacao')\n",
    "            ])\n",
    "        ]),\n",
    "        dcc.Tab(label='Visão por País', children=[\n",
    "            html.Div([\n",
    "                html.H3('Selecione a Escala:'),\n",
    "                dcc.Dropdown(\n",
    "                    id='escala-dropdown',\n",
    "                    options=[\n",
    "                        {'label': 'Ganhos Estimados Mínimos', 'value': 'ganhos_mensais_estimados_minimo'},\n",
    "                        {'label': 'Total de Usuários Estimados por País', 'value': 'total_usuarios_estimado_por_pais'},\n",
    "                        {'label': 'Proporção de Usuários do YouTube x População do País', 'value': 'proporcao_usuarios_youtube_x_populacao_pais'},\n",
    "                        {'label': 'Relação PIB Per Capita x Ganhos Mensais Estimados Mínimos', 'value': 'relacao_pib_per_capita_x_ganhos_mensais_estimados_minimo'}\n",
    "                    ],\n",
    "                    value='ganhos_mensais_estimados_minimo',\n",
    "                    clearable=False\n",
    "                ),\n",
    "                dcc.Graph(id='mapa-visualizacao')\n",
    "            ])\n",
    "        ]),\n",
    "        dcc.Tab(label='Visão por Tipo do Canal', children=[\n",
    "            html.Div([\n",
    "                html.Div([\n",
    "                    html.H3('Selecione o País:'),\n",
    "                    dcc.Dropdown(\n",
    "                        id='pais-dropdown',\n",
    "                        options=[{'label': 'Total', 'value': 'Total'}] + [{'label': pais, 'value': pais} for pais in sorted(dados_tipo_canal['pais'].unique())],\n",
    "                        value='Total',\n",
    "                        clearable=False\n",
    "                    )\n",
    "                ], style={'width': '48%', 'display': 'inline-block'}),\n",
    "                html.Div([\n",
    "                    dcc.Graph(id='treemap-visualizacao')\n",
    "                ], style={'width': '48%', 'display': 'inline-block'})\n",
    "            ])\n",
    "        ]),\n",
    "        dcc.Tab(label='Visão Canais Individuais', children=[\n",
    "            html.Div([\n",
    "                html.H3('Selecione o País e Canal:'),\n",
    "                html.Div([\n",
    "                    dcc.Dropdown(\n",
    "                        id='pais-dropdown-individual',\n",
    "                        options=[{'label': pais, 'value': pais} for pais in sorted(dados['pais'].unique())],\n",
    "                        value=None,\n",
    "                        placeholder=\"Selecione um país\",\n",
    "                        clearable=False\n",
    "                    ),\n",
    "                ], style={'width': '48%', 'display': 'inline-block'}),\n",
    "                html.Div([\n",
    "                    dcc.Dropdown(\n",
    "                        id='canal-dropdown-individual',\n",
    "                        options=[],\n",
    "                        value=None,\n",
    "                        placeholder=\"Selecione um canal\",\n",
    "                        clearable=False\n",
    "                    ),\n",
    "                ], style={'width': '48%', 'display': 'inline-block'}),\n",
    "                html.Div(id='canal-info', children=[\n",
    "                    html.H4('Informações sobre o canal selecionado:')\n",
    "                ]),\n",
    "                dcc.Graph(id='grafico-comparacao')\n",
    "            ])\n",
    "        ])\n",
    "    ])\n",
    "])\n",
    "\n",
    "# Callback para atualizar o gráfico selecionado\n",
    "@app.callback(\n",
    "    Output('grafico-visualizacao', 'figure'),\n",
    "    Input('grafico-dropdown', 'value')\n",
    ")\n",
    "def update_graph(selected_graph):\n",
    "    if selected_graph == 'top_10_inscritos_barras':\n",
    "        data = dados.nlargest(10, 'total_de_inscritos')\n",
    "        return create_bar_chart(data, 'nome_do_canal', 'total_de_inscritos', 'Top 10 Canais com Mais Inscritos', 'Canais')\n",
    "    elif selected_graph == 'top_30_inscritos_treemap':\n",
    "        data = dados.nlargest(30, 'total_de_inscritos')\n",
    "        return create_treemap(data, ['nome_do_canal'], 'total_de_inscritos', 'Top 30 Canais com Mais Inscritos')\n",
    "    elif selected_graph == 'top_10_videos_barras':\n",
    "        data = dados.nlargest(10, 'total_de_videos_publicado')\n",
    "        return create_bar_chart(data, 'nome_do_canal', 'total_de_videos_publicado', 'Top 10 Canais com Mais Vídeos Publicados', 'Canais')\n",
    "    elif selected_graph == 'top_30_videos_treemap':\n",
    "        data = dados.nlargest(30, 'total_de_videos_publicado')\n",
    "        return create_treemap(data, ['nome_do_canal'], 'total_de_videos_publicado', 'Top 30 Canais com Mais Vídeos Publicados')\n",
    "    elif selected_graph == 'top_10_visualizacoes_barras':\n",
    "        data = dados.nlargest(10, 'total_de_visualizacoes')\n",
    "        return create_bar_chart(data, 'nome_do_canal', 'total_de_visualizacoes', 'Top 10 Canais com Mais Visualizações', 'Canais')\n",
    "    elif selected_graph == 'top_30_visualizacoes_bolhas':\n",
    "        data = dados.nlargest(30, 'total_de_visualizacoes')\n",
    "        return create_bubble_chart(data, 'nome_do_canal', 'total_de_visualizacoes', 'total_de_visualizacoes', 'Top 30 Canais com Mais Visualizações')\n",
    "    elif selected_graph == 'total_criacao_mes':\n",
    "        return create_bar_chart(total_criacao_mes, 'mes', 'total', 'Total de Criação de Canal Por Mês', 'Mês')\n",
    "    elif selected_graph == 'total_criacao_ano':\n",
    "        return create_bar_chart(total_criacao_ano, 'data_criacao', 'total', 'Total de Criação de Canal Por Ano', 'Ano')\n",
    "    elif selected_graph == 'total_videos_mes':\n",
    "        return create_bar_chart(total_videos_mes, 'mes', 'total_de_videos_publicado', 'Total de Vídeos Publicados por Mês', 'Mês')\n",
    "    elif selected_graph == 'total_videos_ano':\n",
    "        return create_bar_chart(total_videos_ano, 'data_criacao', 'total_de_videos_publicado', 'Total de Vídeos Publicados por Ano', 'Ano')\n",
    "    elif selected_graph == 'total_visualizacoes_mes':\n",
    "        return create_bar_chart(total_visualizacoes_mes, 'mes', 'total_de_visualizacoes', 'Total de Vídeos Visualizados por Mês', 'Mês')\n",
    "    elif selected_graph == 'total_visualizacoes_ano':\n",
    "        return create_bar_chart(total_visualizacoes_ano, 'data_criacao', 'total_de_visualizacoes', 'Total de Vídeos Visualizados por Ano', 'Ano')\n",
    "    elif selected_graph == 'taxa_crescimento_visualizacoes_ano':\n",
    "        return create_bar_chart(taxa_crescimento_visualizacoes_ano, 'data_criacao', 'taxa_crescimento', 'Taxa de Crescimento de Visualizações por Ano', 'Ano')\n",
    "    else:\n",
    "        return {}\n",
    "\n",
    "# Callback para atualizar o mapa selecionado\n",
    "@app.callback(\n",
    "    Output('mapa-visualizacao', 'figure'),\n",
    "    Input('escala-dropdown', 'value')\n",
    ")\n",
    "def update_map(selected_scale):\n",
    "    if selected_scale == 'ganhos_mensais_estimados_minimo':\n",
    "        data = media_ganhos_pais\n",
    "    elif selected_scale == 'relacao_pib_per_capita_x_ganhos_mensais_estimados_minimo':\n",
    "        data = media_relacao_pib_pais\n",
    "    else:\n",
    "        data = dados\n",
    "    return create_map(data, selected_scale, f'Mapa de {selected_scale.replace(\"_\", \" \").capitalize()}')\n",
    "\n",
    "# Callback para atualizar o treemap com base no país selecionado\n",
    "@app.callback(\n",
    "    Output('treemap-visualizacao', 'figure'),\n",
    "    Input('pais-dropdown', 'value')\n",
    ")\n",
    "def update_treemap(selected_country):\n",
    "    if selected_country == 'Total':\n",
    "        filtered_data = dados_tipo_canal.groupby('tipo_do_canal').sum().reset_index()\n",
    "    else:\n",
    "        filtered_data = dados_tipo_canal[dados_tipo_canal['pais'] == selected_country]\n",
    "    return create_treemap(filtered_data, ['tipo_do_canal'], 'contagem', f'Número de Canais por Tipo de Canal em {selected_country}')\n",
    "\n",
    "# Callback para atualizar a lista de canais com base no país selecionado\n",
    "@app.callback(\n",
    "    Output('canal-dropdown-individual', 'options'),\n",
    "    Input('pais-dropdown-individual', 'value')\n",
    ")\n",
    "def set_canal_options(selected_pais):\n",
    "    if selected_pais:\n",
    "        canais = dados[dados['pais'] == selected_pais]['nome_do_canal'].unique()\n",
    "        sorted_canais = sorted(canais, key=lambda s: (s.lower(), s))\n",
    "        return [{'label': canal, 'value': canal} for canal in sorted_canais]\n",
    "    return []\n",
    "\n",
    "# Callback para exibir as informações do canal selecionado e atualizar o gráfico de comparação\n",
    "@app.callback(\n",
    "    [Output('canal-info', 'children'), Output('grafico-comparacao', 'figure')],\n",
    "    Input('canal-dropdown-individual', 'value')\n",
    ")\n",
    "def display_canal_info(selected_canal):\n",
    "    if selected_canal:\n",
    "        canal_info = dados[dados['nome_do_canal'] == selected_canal].iloc[0]\n",
    "        info = html.Div([\n",
    "            html.H4(f\"Aqui estão as principais informações do '{selected_canal}':\"),\n",
    "            html.P(f\"Nome do canal: {selected_canal}\"),\n",
    "            html.P(f\"País de origem: {canal_info['pais']}\"),\n",
    "            html.P(f\"Tipo de canal: {canal_info['tipo_do_canal']}\"),\n",
    "            html.P(f\"Data de criação do canal: {canal_info['dia_criacao_do_canal']}/{canal_info['mes_criacao_do_canal']}/{canal_info['ano_criacao_do_canal']}\"),\n",
    "            html.P(f\"Idade do canal (em anos): {canal_info['idade_do_canal']}\"),\n",
    "            html.H4(\"Estatísticas do Canal:\"),\n",
    "            html.P(f\"Total de inscritos: {canal_info['total_de_inscritos']:,}\"),\n",
    "            html.P(f\"Total de visualizações: {canal_info['total_de_visualizacoes']:,}\"),\n",
    "            html.P(f\"Total de vídeos publicados: {canal_info['total_de_videos_publicado']}\"),\n",
    "            html.P(f\"Ganhos mensais estimados mínimos: ${canal_info['ganhos_mensais_estimados_minimo']:,.1f}\")\n",
    "        ])\n",
    "        grafico = create_comparison_chart(canal_info, dados)\n",
    "        return info, grafico\n",
    "    return html.H4('Informações sobre o canal selecionado:'), {}\n",
    "\n",
    "if __name__ == '__main__':\n",
    "    app.run_server(debug=True)\n"
   ]
  },
  {
   "cell_type": "code",
   "execution_count": 137,
   "id": "a178d45c",
   "metadata": {},
   "outputs": [
    {
     "name": "stdout",
     "output_type": "stream",
     "text": [
      "<class 'pandas.core.frame.DataFrame'>\n",
      "RangeIndex: 1349 entries, 0 to 1348\n",
      "Data columns (total 45 columns):\n",
      " #   Column                                                    Non-Null Count  Dtype  \n",
      "---  ------                                                    --------------  -----  \n",
      " 0   nome_do_canal                                             1349 non-null   object \n",
      " 1   total_de_videos_publicado                                 1349 non-null   int64  \n",
      " 2   total_de_inscritos                                        1349 non-null   float64\n",
      " 3   total_de_visualizacoes                                    1349 non-null   float64\n",
      " 4   pais                                                      1349 non-null   object \n",
      " 5   tipo_do_canal                                             1349 non-null   object \n",
      " 6   dia_criacao_do_canal                                      1349 non-null   int64  \n",
      " 7   mes_criacao_do_canal                                      1349 non-null   int64  \n",
      " 8   ano_criacao_do_canal                                      1349 non-null   int64  \n",
      " 9   idade_do_canal                                            1349 non-null   int64  \n",
      " 10  rank_social_blade                                         1349 non-null   float64\n",
      " 11  rank_inscritos                                            1349 non-null   float64\n",
      " 12  rank_visualizacoes                                        1349 non-null   float64\n",
      " 13  rank_pais                                                 1349 non-null   object \n",
      " 14  ganhos_mensais_estimados_minimo                           1349 non-null   float64\n",
      " 15  total_de_visualizacoes_ultimos_30_dias                    1349 non-null   float64\n",
      " 16  total_de_inscritos_ultimos_30_dias                        1349 non-null   float64\n",
      " 17  total_usuarios_estimado_por_pais                          1349 non-null   float64\n",
      " 18  populacao_2022                                            1349 non-null   float64\n",
      " 19  pib_nominal_2022                                          1349 non-null   float64\n",
      " 20  pib_per_capita_2022                                       1349 non-null   float64\n",
      " 21  expectativa_de_vida_2022                                  1349 non-null   float64\n",
      " 22  taxa_de_natalidade                                        1349 non-null   float64\n",
      " 23  taxa_alfabetizacao_total_%                                1349 non-null   float64\n",
      " 24  taxa_alfabetizacao_masculina_%                            1349 non-null   float64\n",
      " 25  taxa_alfabetizacao_feminina_%                             1349 non-null   float64\n",
      " 26  diferenca_alfabetizacao_masculino_feminino                1349 non-null   float64\n",
      " 27  taxa_desemprego_2022_%                                    1349 non-null   float64\n",
      " 28  taxa_de_pobreza                                           1349 non-null   float64\n",
      " 29  indice_de_watts                                           1349 non-null   float64\n",
      " 30  human_development_groups                                  1349 non-null   object \n",
      " 31  IDH_2021                                                  1349 non-null   float64\n",
      " 32  indice_de_corrupcao_score                                 1349 non-null   float64\n",
      " 33  nivel_de_urbanizacao_2023_%_da_pop                        1349 non-null   float64\n",
      " 34  continente                                                1349 non-null   object \n",
      " 35  media_de_inscritos_por_video                              1349 non-null   float64\n",
      " 36  media_de_visualizacoes_por_video                          1349 non-null   float64\n",
      " 37  media_videos_publicados_por_dia                           1349 non-null   float64\n",
      " 38  media_videos_publicados_por_mes                           1349 non-null   float64\n",
      " 39  media_videos_publicados_por_ano                           1349 non-null   float64\n",
      " 40  proporcao_usuarios_youtube_x_populacao_pais               1349 non-null   float64\n",
      " 41  relacao_pib_per_capita_x_ganhos_mensais_estimados_minimo  1349 non-null   float64\n",
      " 42  media_crescimento_inscritos_dia                           1349 non-null   float64\n",
      " 43  media_crescimento_inscritos_mes                           1349 non-null   float64\n",
      " 44  media_crescimento_visualizacoes_dia                       1349 non-null   float64\n",
      "dtypes: float64(34), int64(5), object(6)\n",
      "memory usage: 474.4+ KB\n"
     ]
    }
   ],
   "source": [
    "dados.info()"
   ]
  },
  {
   "cell_type": "code",
   "execution_count": 106,
   "id": "34d37427",
   "metadata": {},
   "outputs": [
    {
     "data": {
      "text/html": [
       "<div>\n",
       "<style scoped>\n",
       "    .dataframe tbody tr th:only-of-type {\n",
       "        vertical-align: middle;\n",
       "    }\n",
       "\n",
       "    .dataframe tbody tr th {\n",
       "        vertical-align: top;\n",
       "    }\n",
       "\n",
       "    .dataframe thead th {\n",
       "        text-align: right;\n",
       "    }\n",
       "</style>\n",
       "<table border=\"1\" class=\"dataframe\">\n",
       "  <thead>\n",
       "    <tr style=\"text-align: right;\">\n",
       "      <th></th>\n",
       "      <th>nome_do_canal</th>\n",
       "      <th>total_de_videos_publicado</th>\n",
       "      <th>total_de_inscritos</th>\n",
       "      <th>total_de_visualizacoes</th>\n",
       "      <th>pais</th>\n",
       "      <th>tipo_do_canal</th>\n",
       "      <th>dia_criacao_do_canal</th>\n",
       "      <th>mes_criacao_do_canal</th>\n",
       "      <th>ano_criacao_do_canal</th>\n",
       "      <th>idade_do_canal</th>\n",
       "      <th>rank_social_blade</th>\n",
       "      <th>rank_inscritos</th>\n",
       "      <th>rank_visualizacoes</th>\n",
       "      <th>rank_pais</th>\n",
       "      <th>ganhos_mensais_estimados_minimo</th>\n",
       "      <th>total_de_visualizacoes_ultimos_30_dias</th>\n",
       "      <th>total_de_inscritos_ultimos_30_dias</th>\n",
       "      <th>total_usuarios_estimado_por_pais</th>\n",
       "      <th>populacao_2022</th>\n",
       "      <th>pib_nominal_2022</th>\n",
       "      <th>pib_per_capita_2022</th>\n",
       "      <th>expectativa_de_vida_2022</th>\n",
       "      <th>taxa_de_natalidade</th>\n",
       "      <th>taxa_alfabetizacao_total_%</th>\n",
       "      <th>taxa_alfabetizacao_masculina_%</th>\n",
       "      <th>taxa_alfabetizacao_feminina_%</th>\n",
       "      <th>diferenca_alfabetizacao_masculino_feminino</th>\n",
       "      <th>taxa_desemprego_2022_%</th>\n",
       "      <th>taxa_de_pobreza</th>\n",
       "      <th>indice_de_watts</th>\n",
       "      <th>human_development_groups</th>\n",
       "      <th>IDH_2021</th>\n",
       "      <th>indice_de_corrupcao_score</th>\n",
       "      <th>nivel_de_urbanizacao_2023_%_da_pop</th>\n",
       "      <th>continente</th>\n",
       "      <th>media_de_inscritos_por_video</th>\n",
       "      <th>media_de_visualizacoes_por_video</th>\n",
       "      <th>media_videos_publicados_por_dia</th>\n",
       "      <th>media_videos_publicados_por_mes</th>\n",
       "      <th>media_videos_publicados_por_ano</th>\n",
       "      <th>proporcao_usuarios_youtube_x_populacao_pais</th>\n",
       "      <th>relacao_pib_per_capita_x_ganhos_mensais_estimados_minimo</th>\n",
       "      <th>media_crescimento_inscritos_dia</th>\n",
       "      <th>media_crescimento_inscritos_mes</th>\n",
       "      <th>media_crescimento_visualizacoes_dia</th>\n",
       "    </tr>\n",
       "  </thead>\n",
       "  <tbody>\n",
       "    <tr>\n",
       "      <th>539</th>\n",
       "      <td>MR.Shorts 03</td>\n",
       "      <td>10</td>\n",
       "      <td>8.61</td>\n",
       "      <td>1.140429e-03</td>\n",
       "      <td>India</td>\n",
       "      <td>People</td>\n",
       "      <td>2</td>\n",
       "      <td>2</td>\n",
       "      <td>2021</td>\n",
       "      <td>3</td>\n",
       "      <td>863719.0</td>\n",
       "      <td>499.0</td>\n",
       "      <td>3393641.0</td>\n",
       "      <td>270.0</td>\n",
       "      <td>13.0</td>\n",
       "      <td>50388.0</td>\n",
       "      <td>-30000.0</td>\n",
       "      <td>476000000.0</td>\n",
       "      <td>1.417173e+09</td>\n",
       "      <td>3.416646e+12</td>\n",
       "      <td>2366.309609</td>\n",
       "      <td>67.744</td>\n",
       "      <td>17.86</td>\n",
       "      <td>72.1</td>\n",
       "      <td>80.9</td>\n",
       "      <td>62.8</td>\n",
       "      <td>18.1</td>\n",
       "      <td>4.822</td>\n",
       "      <td>0.106997</td>\n",
       "      <td>0.027762</td>\n",
       "      <td>Medium</td>\n",
       "      <td>0.633</td>\n",
       "      <td>39.0</td>\n",
       "      <td>35.872</td>\n",
       "      <td>Asia</td>\n",
       "      <td>0.861000</td>\n",
       "      <td>1.140429e-04</td>\n",
       "      <td>3.333333</td>\n",
       "      <td>0.277778</td>\n",
       "      <td>3.333333</td>\n",
       "      <td>0.33588</td>\n",
       "      <td>182.023816</td>\n",
       "      <td>2.87</td>\n",
       "      <td>0.239167</td>\n",
       "      <td>3.801430e-04</td>\n",
       "    </tr>\n",
       "    <tr>\n",
       "      <th>563</th>\n",
       "      <td>Payal Panchal</td>\n",
       "      <td>399</td>\n",
       "      <td>12700000.00</td>\n",
       "      <td>4.698509e+09</td>\n",
       "      <td>India</td>\n",
       "      <td>Entertainment</td>\n",
       "      <td>27</td>\n",
       "      <td>6</td>\n",
       "      <td>2019</td>\n",
       "      <td>5</td>\n",
       "      <td>3009.0</td>\n",
       "      <td>335.0</td>\n",
       "      <td>2111.0</td>\n",
       "      <td>166.0</td>\n",
       "      <td>32300.0</td>\n",
       "      <td>129261000.0</td>\n",
       "      <td>200000.0</td>\n",
       "      <td>476000000.0</td>\n",
       "      <td>1.417173e+09</td>\n",
       "      <td>3.416646e+12</td>\n",
       "      <td>2366.309609</td>\n",
       "      <td>67.744</td>\n",
       "      <td>17.86</td>\n",
       "      <td>72.1</td>\n",
       "      <td>80.9</td>\n",
       "      <td>62.8</td>\n",
       "      <td>18.1</td>\n",
       "      <td>4.822</td>\n",
       "      <td>0.106997</td>\n",
       "      <td>0.027762</td>\n",
       "      <td>Medium</td>\n",
       "      <td>0.633</td>\n",
       "      <td>39.0</td>\n",
       "      <td>35.872</td>\n",
       "      <td>Asia</td>\n",
       "      <td>31829.573935</td>\n",
       "      <td>1.177571e+07</td>\n",
       "      <td>79.800000</td>\n",
       "      <td>6.650000</td>\n",
       "      <td>79.800000</td>\n",
       "      <td>0.33588</td>\n",
       "      <td>0.073260</td>\n",
       "      <td>2540000.00</td>\n",
       "      <td>211666.666667</td>\n",
       "      <td>9.397018e+08</td>\n",
       "    </tr>\n",
       "  </tbody>\n",
       "</table>\n",
       "</div>"
      ],
      "text/plain": [
       "     nome_do_canal  total_de_videos_publicado  total_de_inscritos  \\\n",
       "539   MR.Shorts 03                         10                8.61   \n",
       "563  Payal Panchal                        399         12700000.00   \n",
       "\n",
       "     total_de_visualizacoes   pais  tipo_do_canal  dia_criacao_do_canal  \\\n",
       "539            1.140429e-03  India         People                     2   \n",
       "563            4.698509e+09  India  Entertainment                    27   \n",
       "\n",
       "     mes_criacao_do_canal  ano_criacao_do_canal  idade_do_canal  \\\n",
       "539                     2                  2021               3   \n",
       "563                     6                  2019               5   \n",
       "\n",
       "     rank_social_blade  rank_inscritos  rank_visualizacoes rank_pais  \\\n",
       "539           863719.0           499.0           3393641.0     270.0   \n",
       "563             3009.0           335.0              2111.0     166.0   \n",
       "\n",
       "     ganhos_mensais_estimados_minimo  total_de_visualizacoes_ultimos_30_dias  \\\n",
       "539                             13.0                                 50388.0   \n",
       "563                          32300.0                             129261000.0   \n",
       "\n",
       "     total_de_inscritos_ultimos_30_dias  total_usuarios_estimado_por_pais  \\\n",
       "539                            -30000.0                       476000000.0   \n",
       "563                            200000.0                       476000000.0   \n",
       "\n",
       "     populacao_2022  pib_nominal_2022  pib_per_capita_2022  \\\n",
       "539    1.417173e+09      3.416646e+12          2366.309609   \n",
       "563    1.417173e+09      3.416646e+12          2366.309609   \n",
       "\n",
       "     expectativa_de_vida_2022  taxa_de_natalidade  taxa_alfabetizacao_total_%  \\\n",
       "539                    67.744               17.86                        72.1   \n",
       "563                    67.744               17.86                        72.1   \n",
       "\n",
       "     taxa_alfabetizacao_masculina_%  taxa_alfabetizacao_feminina_%  \\\n",
       "539                            80.9                           62.8   \n",
       "563                            80.9                           62.8   \n",
       "\n",
       "     diferenca_alfabetizacao_masculino_feminino  taxa_desemprego_2022_%  \\\n",
       "539                                        18.1                   4.822   \n",
       "563                                        18.1                   4.822   \n",
       "\n",
       "     taxa_de_pobreza  indice_de_watts human_development_groups  IDH_2021  \\\n",
       "539         0.106997         0.027762                   Medium     0.633   \n",
       "563         0.106997         0.027762                   Medium     0.633   \n",
       "\n",
       "     indice_de_corrupcao_score  nivel_de_urbanizacao_2023_%_da_pop continente  \\\n",
       "539                       39.0                              35.872       Asia   \n",
       "563                       39.0                              35.872       Asia   \n",
       "\n",
       "     media_de_inscritos_por_video  media_de_visualizacoes_por_video  \\\n",
       "539                      0.861000                      1.140429e-04   \n",
       "563                  31829.573935                      1.177571e+07   \n",
       "\n",
       "     media_videos_publicados_por_dia  media_videos_publicados_por_mes  \\\n",
       "539                         3.333333                         0.277778   \n",
       "563                        79.800000                         6.650000   \n",
       "\n",
       "     media_videos_publicados_por_ano  \\\n",
       "539                         3.333333   \n",
       "563                        79.800000   \n",
       "\n",
       "     proporcao_usuarios_youtube_x_populacao_pais  \\\n",
       "539                                      0.33588   \n",
       "563                                      0.33588   \n",
       "\n",
       "     relacao_pib_per_capita_x_ganhos_mensais_estimados_minimo  \\\n",
       "539                                         182.023816          \n",
       "563                                           0.073260          \n",
       "\n",
       "     media_crescimento_inscritos_dia  media_crescimento_inscritos_mes  \\\n",
       "539                             2.87                         0.239167   \n",
       "563                       2540000.00                    211666.666667   \n",
       "\n",
       "     media_crescimento_visualizacoes_dia  \n",
       "539                         3.801430e-04  \n",
       "563                         9.397018e+08  "
      ]
     },
     "execution_count": 106,
     "metadata": {},
     "output_type": "execute_result"
    }
   ],
   "source": [
    "dados.sample(2)"
   ]
  },
  {
   "cell_type": "code",
   "execution_count": 107,
   "id": "9f6b30fa",
   "metadata": {},
   "outputs": [
    {
     "data": {
      "text/plain": [
       "Index(['nome_do_canal', 'total_de_videos_publicado', 'total_de_inscritos',\n",
       "       'total_de_visualizacoes', 'pais', 'tipo_do_canal',\n",
       "       'dia_criacao_do_canal', 'mes_criacao_do_canal', 'ano_criacao_do_canal',\n",
       "       'idade_do_canal', 'rank_social_blade', 'rank_inscritos',\n",
       "       'rank_visualizacoes', 'rank_pais', 'ganhos_mensais_estimados_minimo',\n",
       "       'total_de_visualizacoes_ultimos_30_dias',\n",
       "       'total_de_inscritos_ultimos_30_dias',\n",
       "       'total_usuarios_estimado_por_pais', 'populacao_2022',\n",
       "       'pib_nominal_2022', 'pib_per_capita_2022', 'expectativa_de_vida_2022',\n",
       "       'taxa_de_natalidade', 'taxa_alfabetizacao_total_%',\n",
       "       'taxa_alfabetizacao_masculina_%', 'taxa_alfabetizacao_feminina_%',\n",
       "       'diferenca_alfabetizacao_masculino_feminino', 'taxa_desemprego_2022_%',\n",
       "       'taxa_de_pobreza', 'indice_de_watts', 'human_development_groups',\n",
       "       'IDH_2021', 'indice_de_corrupcao_score',\n",
       "       'nivel_de_urbanizacao_2023_%_da_pop', 'continente',\n",
       "       'media_de_inscritos_por_video', 'media_de_visualizacoes_por_video',\n",
       "       'media_videos_publicados_por_dia', 'media_videos_publicados_por_mes',\n",
       "       'media_videos_publicados_por_ano',\n",
       "       'proporcao_usuarios_youtube_x_populacao_pais',\n",
       "       'relacao_pib_per_capita_x_ganhos_mensais_estimados_minimo',\n",
       "       'media_crescimento_inscritos_dia', 'media_crescimento_inscritos_mes',\n",
       "       'media_crescimento_visualizacoes_dia'],\n",
       "      dtype='object')"
      ]
     },
     "execution_count": 107,
     "metadata": {},
     "output_type": "execute_result"
    }
   ],
   "source": [
    "dados.columns"
   ]
  },
  {
   "cell_type": "code",
   "execution_count": 146,
   "id": "84ed9dfb",
   "metadata": {},
   "outputs": [
    {
     "data": {
      "text/html": [
       "<div>\n",
       "<style scoped>\n",
       "    .dataframe tbody tr th:only-of-type {\n",
       "        vertical-align: middle;\n",
       "    }\n",
       "\n",
       "    .dataframe tbody tr th {\n",
       "        vertical-align: top;\n",
       "    }\n",
       "\n",
       "    .dataframe thead th {\n",
       "        text-align: right;\n",
       "    }\n",
       "</style>\n",
       "<table border=\"1\" class=\"dataframe\">\n",
       "  <thead>\n",
       "    <tr style=\"text-align: right;\">\n",
       "      <th></th>\n",
       "      <th>total_de_videos_publicado</th>\n",
       "      <th>total_de_inscritos</th>\n",
       "      <th>total_de_visualizacoes</th>\n",
       "      <th>dia_criacao_do_canal</th>\n",
       "      <th>mes_criacao_do_canal</th>\n",
       "      <th>ano_criacao_do_canal</th>\n",
       "      <th>idade_do_canal</th>\n",
       "      <th>rank_social_blade</th>\n",
       "      <th>rank_inscritos</th>\n",
       "      <th>rank_visualizacoes</th>\n",
       "      <th>ganhos_mensais_estimados_minimo</th>\n",
       "      <th>total_de_visualizacoes_ultimos_30_dias</th>\n",
       "      <th>total_de_inscritos_ultimos_30_dias</th>\n",
       "      <th>total_usuarios_estimado_por_pais</th>\n",
       "      <th>populacao_2022</th>\n",
       "      <th>pib_nominal_2022</th>\n",
       "      <th>pib_per_capita_2022</th>\n",
       "      <th>expectativa_de_vida_2022</th>\n",
       "      <th>taxa_de_natalidade</th>\n",
       "      <th>taxa_alfabetizacao_total_%</th>\n",
       "      <th>taxa_alfabetizacao_masculina_%</th>\n",
       "      <th>taxa_alfabetizacao_feminina_%</th>\n",
       "      <th>diferenca_alfabetizacao_masculino_feminino</th>\n",
       "      <th>taxa_desemprego_2022_%</th>\n",
       "      <th>taxa_de_pobreza</th>\n",
       "      <th>indice_de_watts</th>\n",
       "      <th>IDH_2021</th>\n",
       "      <th>indice_de_corrupcao_score</th>\n",
       "      <th>nivel_de_urbanizacao_2023_%_da_pop</th>\n",
       "      <th>media_de_inscritos_por_video</th>\n",
       "      <th>media_de_visualizacoes_por_video</th>\n",
       "      <th>media_videos_publicados_por_dia</th>\n",
       "      <th>media_videos_publicados_por_mes</th>\n",
       "      <th>media_videos_publicados_por_ano</th>\n",
       "      <th>proporcao_usuarios_youtube_x_populacao_pais</th>\n",
       "      <th>relacao_pib_per_capita_x_ganhos_mensais_estimados_minimo</th>\n",
       "      <th>media_crescimento_inscritos_dia</th>\n",
       "      <th>media_crescimento_inscritos_mes</th>\n",
       "      <th>media_crescimento_visualizacoes_dia</th>\n",
       "    </tr>\n",
       "  </thead>\n",
       "  <tbody>\n",
       "    <tr>\n",
       "      <th>count</th>\n",
       "      <td>1349.000000</td>\n",
       "      <td>1.349000e+03</td>\n",
       "      <td>1.349000e+03</td>\n",
       "      <td>1349.000000</td>\n",
       "      <td>1349.000000</td>\n",
       "      <td>1349.000000</td>\n",
       "      <td>1349.000000</td>\n",
       "      <td>1.349000e+03</td>\n",
       "      <td>1.349000e+03</td>\n",
       "      <td>1.349000e+03</td>\n",
       "      <td>1.349000e+03</td>\n",
       "      <td>1.349000e+03</td>\n",
       "      <td>1.349000e+03</td>\n",
       "      <td>1.349000e+03</td>\n",
       "      <td>1.349000e+03</td>\n",
       "      <td>1.349000e+03</td>\n",
       "      <td>1349.000000</td>\n",
       "      <td>1349.000000</td>\n",
       "      <td>1349.000000</td>\n",
       "      <td>1349.000000</td>\n",
       "      <td>1349.000000</td>\n",
       "      <td>1349.000000</td>\n",
       "      <td>1349.000000</td>\n",
       "      <td>1349.000000</td>\n",
       "      <td>1349.000000</td>\n",
       "      <td>1349.000000</td>\n",
       "      <td>1349.000000</td>\n",
       "      <td>1349.000000</td>\n",
       "      <td>1349.000000</td>\n",
       "      <td>1.349000e+03</td>\n",
       "      <td>1.349000e+03</td>\n",
       "      <td>1349.000000</td>\n",
       "      <td>1349.000000</td>\n",
       "      <td>1349.000000</td>\n",
       "      <td>1349.000000</td>\n",
       "      <td>1349.000000</td>\n",
       "      <td>1.349000e+03</td>\n",
       "      <td>1.349000e+03</td>\n",
       "      <td>1.349000e+03</td>\n",
       "    </tr>\n",
       "    <tr>\n",
       "      <th>mean</th>\n",
       "      <td>4991.906597</td>\n",
       "      <td>8.989849e+06</td>\n",
       "      <td>4.849968e+09</td>\n",
       "      <td>15.756116</td>\n",
       "      <td>6.265382</td>\n",
       "      <td>2015.551520</td>\n",
       "      <td>7.989622</td>\n",
       "      <td>1.665123e+05</td>\n",
       "      <td>1.034033e+04</td>\n",
       "      <td>3.560222e+05</td>\n",
       "      <td>4.314572e+04</td>\n",
       "      <td>1.652196e+08</td>\n",
       "      <td>2.595550e+05</td>\n",
       "      <td>1.645518e+08</td>\n",
       "      <td>3.630270e+08</td>\n",
       "      <td>6.253066e+12</td>\n",
       "      <td>31178.700154</td>\n",
       "      <td>75.222277</td>\n",
       "      <td>13.790178</td>\n",
       "      <td>89.642031</td>\n",
       "      <td>91.587324</td>\n",
       "      <td>87.551816</td>\n",
       "      <td>4.036471</td>\n",
       "      <td>5.834122</td>\n",
       "      <td>0.044547</td>\n",
       "      <td>0.020352</td>\n",
       "      <td>0.808743</td>\n",
       "      <td>52.111828</td>\n",
       "      <td>71.649003</td>\n",
       "      <td>inf</td>\n",
       "      <td>inf</td>\n",
       "      <td>624.794906</td>\n",
       "      <td>52.066242</td>\n",
       "      <td>624.794906</td>\n",
       "      <td>0.653895</td>\n",
       "      <td>inf</td>\n",
       "      <td>inf</td>\n",
       "      <td>inf</td>\n",
       "      <td>inf</td>\n",
       "    </tr>\n",
       "    <tr>\n",
       "      <th>std</th>\n",
       "      <td>24767.080583</td>\n",
       "      <td>1.796600e+07</td>\n",
       "      <td>1.282468e+10</td>\n",
       "      <td>8.693801</td>\n",
       "      <td>3.398266</td>\n",
       "      <td>5.148512</td>\n",
       "      <td>5.140450</td>\n",
       "      <td>3.055788e+05</td>\n",
       "      <td>1.566194e+05</td>\n",
       "      <td>9.823717e+05</td>\n",
       "      <td>1.242188e+05</td>\n",
       "      <td>5.053290e+08</td>\n",
       "      <td>9.264455e+05</td>\n",
       "      <td>1.631070e+08</td>\n",
       "      <td>4.927919e+08</td>\n",
       "      <td>9.307698e+12</td>\n",
       "      <td>30567.612537</td>\n",
       "      <td>5.529181</td>\n",
       "      <td>4.607557</td>\n",
       "      <td>10.482595</td>\n",
       "      <td>7.560723</td>\n",
       "      <td>13.950173</td>\n",
       "      <td>7.422765</td>\n",
       "      <td>3.604580</td>\n",
       "      <td>0.072291</td>\n",
       "      <td>0.035994</td>\n",
       "      <td>0.118113</td>\n",
       "      <td>17.888796</td>\n",
       "      <td>19.724175</td>\n",
       "      <td>NaN</td>\n",
       "      <td>NaN</td>\n",
       "      <td>2904.909754</td>\n",
       "      <td>242.075813</td>\n",
       "      <td>2904.909754</td>\n",
       "      <td>0.225441</td>\n",
       "      <td>NaN</td>\n",
       "      <td>NaN</td>\n",
       "      <td>NaN</td>\n",
       "      <td>NaN</td>\n",
       "    </tr>\n",
       "    <tr>\n",
       "      <th>min</th>\n",
       "      <td>0.000000</td>\n",
       "      <td>0.000000e+00</td>\n",
       "      <td>0.000000e+00</td>\n",
       "      <td>1.000000</td>\n",
       "      <td>1.000000</td>\n",
       "      <td>2005.000000</td>\n",
       "      <td>0.000000</td>\n",
       "      <td>1.000000e+00</td>\n",
       "      <td>1.000000e+00</td>\n",
       "      <td>1.000000e+00</td>\n",
       "      <td>0.000000e+00</td>\n",
       "      <td>-3.350000e+09</td>\n",
       "      <td>-1.000000e+05</td>\n",
       "      <td>1.000000e+04</td>\n",
       "      <td>1.504000e+04</td>\n",
       "      <td>3.360000e+08</td>\n",
       "      <td>352.603733</td>\n",
       "      <td>60.958000</td>\n",
       "      <td>6.400000</td>\n",
       "      <td>38.200000</td>\n",
       "      <td>52.000000</td>\n",
       "      <td>24.200000</td>\n",
       "      <td>-9.100000</td>\n",
       "      <td>0.909000</td>\n",
       "      <td>0.000000</td>\n",
       "      <td>0.000000</td>\n",
       "      <td>0.478000</td>\n",
       "      <td>17.000000</td>\n",
       "      <td>14.538000</td>\n",
       "      <td>0.000000e+00</td>\n",
       "      <td>0.000000e+00</td>\n",
       "      <td>0.000000</td>\n",
       "      <td>0.000000</td>\n",
       "      <td>0.000000</td>\n",
       "      <td>0.000007</td>\n",
       "      <td>0.002151</td>\n",
       "      <td>0.000000e+00</td>\n",
       "      <td>0.000000e+00</td>\n",
       "      <td>0.000000e+00</td>\n",
       "    </tr>\n",
       "    <tr>\n",
       "      <th>25%</th>\n",
       "      <td>254.000000</td>\n",
       "      <td>8.690000e+04</td>\n",
       "      <td>1.620082e+07</td>\n",
       "      <td>8.000000</td>\n",
       "      <td>3.000000</td>\n",
       "      <td>2012.000000</td>\n",
       "      <td>3.000000</td>\n",
       "      <td>1.539000e+03</td>\n",
       "      <td>3.360000e+02</td>\n",
       "      <td>1.443000e+03</td>\n",
       "      <td>8.920000e+02</td>\n",
       "      <td>3.232000e+06</td>\n",
       "      <td>8.000000e+03</td>\n",
       "      <td>2.760000e+07</td>\n",
       "      <td>4.623483e+07</td>\n",
       "      <td>6.311334e+11</td>\n",
       "      <td>5715.280221</td>\n",
       "      <td>71.475000</td>\n",
       "      <td>11.000000</td>\n",
       "      <td>88.000000</td>\n",
       "      <td>88.000000</td>\n",
       "      <td>88.000000</td>\n",
       "      <td>0.000000</td>\n",
       "      <td>3.650000</td>\n",
       "      <td>0.002487</td>\n",
       "      <td>0.003320</td>\n",
       "      <td>0.717000</td>\n",
       "      <td>36.000000</td>\n",
       "      <td>62.818000</td>\n",
       "      <td>1.353846e+02</td>\n",
       "      <td>3.593713e+04</td>\n",
       "      <td>39.250000</td>\n",
       "      <td>3.270833</td>\n",
       "      <td>39.250000</td>\n",
       "      <td>0.494417</td>\n",
       "      <td>0.347489</td>\n",
       "      <td>1.193333e+04</td>\n",
       "      <td>9.944444e+02</td>\n",
       "      <td>2.131713e+06</td>\n",
       "    </tr>\n",
       "    <tr>\n",
       "      <th>50%</th>\n",
       "      <td>739.000000</td>\n",
       "      <td>2.610000e+06</td>\n",
       "      <td>7.857856e+08</td>\n",
       "      <td>16.000000</td>\n",
       "      <td>6.000000</td>\n",
       "      <td>2016.000000</td>\n",
       "      <td>7.000000</td>\n",
       "      <td>1.044700e+04</td>\n",
       "      <td>9.590000e+02</td>\n",
       "      <td>9.436000e+03</td>\n",
       "      <td>1.110000e+04</td>\n",
       "      <td>4.337100e+07</td>\n",
       "      <td>9.000000e+04</td>\n",
       "      <td>1.380000e+08</td>\n",
       "      <td>2.153135e+08</td>\n",
       "      <td>1.920096e+12</td>\n",
       "      <td>13974.449249</td>\n",
       "      <td>76.064000</td>\n",
       "      <td>12.600000</td>\n",
       "      <td>92.600000</td>\n",
       "      <td>92.200000</td>\n",
       "      <td>92.900000</td>\n",
       "      <td>0.000000</td>\n",
       "      <td>4.822000</td>\n",
       "      <td>0.008145</td>\n",
       "      <td>0.014403</td>\n",
       "      <td>0.822000</td>\n",
       "      <td>42.000000</td>\n",
       "      <td>81.509000</td>\n",
       "      <td>2.878571e+03</td>\n",
       "      <td>1.018355e+06</td>\n",
       "      <td>133.200000</td>\n",
       "      <td>11.100000</td>\n",
       "      <td>133.200000</td>\n",
       "      <td>0.741138</td>\n",
       "      <td>2.110431</td>\n",
       "      <td>4.942857e+05</td>\n",
       "      <td>4.119048e+04</td>\n",
       "      <td>1.556202e+08</td>\n",
       "    </tr>\n",
       "    <tr>\n",
       "      <th>75%</th>\n",
       "      <td>1782.000000</td>\n",
       "      <td>1.080000e+07</td>\n",
       "      <td>4.393079e+09</td>\n",
       "      <td>23.000000</td>\n",
       "      <td>9.000000</td>\n",
       "      <td>2020.000000</td>\n",
       "      <td>12.000000</td>\n",
       "      <td>1.163590e+05</td>\n",
       "      <td>1.694000e+03</td>\n",
       "      <td>9.806800e+04</td>\n",
       "      <td>4.380000e+04</td>\n",
       "      <td>1.746600e+08</td>\n",
       "      <td>3.000000e+05</td>\n",
       "      <td>2.470000e+08</td>\n",
       "      <td>3.332714e+08</td>\n",
       "      <td>3.416646e+12</td>\n",
       "      <td>55509.393176</td>\n",
       "      <td>79.720000</td>\n",
       "      <td>17.860000</td>\n",
       "      <td>98.800000</td>\n",
       "      <td>99.000000</td>\n",
       "      <td>98.700000</td>\n",
       "      <td>4.200000</td>\n",
       "      <td>7.392000</td>\n",
       "      <td>0.090000</td>\n",
       "      <td>0.020000</td>\n",
       "      <td>0.921000</td>\n",
       "      <td>69.000000</td>\n",
       "      <td>84.398000</td>\n",
       "      <td>1.309524e+04</td>\n",
       "      <td>4.813721e+06</td>\n",
       "      <td>339.166667</td>\n",
       "      <td>28.263889</td>\n",
       "      <td>339.166667</td>\n",
       "      <td>0.828578</td>\n",
       "      <td>19.311668</td>\n",
       "      <td>2.136364e+06</td>\n",
       "      <td>1.780303e+05</td>\n",
       "      <td>8.463515e+08</td>\n",
       "    </tr>\n",
       "    <tr>\n",
       "      <th>max</th>\n",
       "      <td>426935.000000</td>\n",
       "      <td>2.890000e+08</td>\n",
       "      <td>2.588967e+11</td>\n",
       "      <td>31.000000</td>\n",
       "      <td>12.000000</td>\n",
       "      <td>2024.000000</td>\n",
       "      <td>19.000000</td>\n",
       "      <td>1.107983e+06</td>\n",
       "      <td>4.493626e+06</td>\n",
       "      <td>4.514321e+06</td>\n",
       "      <td>3.300000e+06</td>\n",
       "      <td>1.318700e+10</td>\n",
       "      <td>2.700000e+07</td>\n",
       "      <td>4.760000e+08</td>\n",
       "      <td>1.417173e+09</td>\n",
       "      <td>2.543970e+13</td>\n",
       "      <td>187267.132381</td>\n",
       "      <td>84.500000</td>\n",
       "      <td>40.730000</td>\n",
       "      <td>99.900000</td>\n",
       "      <td>100.000000</td>\n",
       "      <td>100.000000</td>\n",
       "      <td>27.800000</td>\n",
       "      <td>28.838000</td>\n",
       "      <td>0.494000</td>\n",
       "      <td>0.300000</td>\n",
       "      <td>0.962000</td>\n",
       "      <td>90.000000</td>\n",
       "      <td>100.000000</td>\n",
       "      <td>inf</td>\n",
       "      <td>inf</td>\n",
       "      <td>57964.000000</td>\n",
       "      <td>4830.333333</td>\n",
       "      <td>57964.000000</td>\n",
       "      <td>1.000000</td>\n",
       "      <td>inf</td>\n",
       "      <td>inf</td>\n",
       "      <td>inf</td>\n",
       "      <td>inf</td>\n",
       "    </tr>\n",
       "  </tbody>\n",
       "</table>\n",
       "</div>"
      ],
      "text/plain": [
       "       total_de_videos_publicado  total_de_inscritos  total_de_visualizacoes  \\\n",
       "count                1349.000000        1.349000e+03            1.349000e+03   \n",
       "mean                 4991.906597        8.989849e+06            4.849968e+09   \n",
       "std                 24767.080583        1.796600e+07            1.282468e+10   \n",
       "min                     0.000000        0.000000e+00            0.000000e+00   \n",
       "25%                   254.000000        8.690000e+04            1.620082e+07   \n",
       "50%                   739.000000        2.610000e+06            7.857856e+08   \n",
       "75%                  1782.000000        1.080000e+07            4.393079e+09   \n",
       "max                426935.000000        2.890000e+08            2.588967e+11   \n",
       "\n",
       "       dia_criacao_do_canal  mes_criacao_do_canal  ano_criacao_do_canal  \\\n",
       "count           1349.000000           1349.000000           1349.000000   \n",
       "mean              15.756116              6.265382           2015.551520   \n",
       "std                8.693801              3.398266              5.148512   \n",
       "min                1.000000              1.000000           2005.000000   \n",
       "25%                8.000000              3.000000           2012.000000   \n",
       "50%               16.000000              6.000000           2016.000000   \n",
       "75%               23.000000              9.000000           2020.000000   \n",
       "max               31.000000             12.000000           2024.000000   \n",
       "\n",
       "       idade_do_canal  rank_social_blade  rank_inscritos  rank_visualizacoes  \\\n",
       "count     1349.000000       1.349000e+03    1.349000e+03        1.349000e+03   \n",
       "mean         7.989622       1.665123e+05    1.034033e+04        3.560222e+05   \n",
       "std          5.140450       3.055788e+05    1.566194e+05        9.823717e+05   \n",
       "min          0.000000       1.000000e+00    1.000000e+00        1.000000e+00   \n",
       "25%          3.000000       1.539000e+03    3.360000e+02        1.443000e+03   \n",
       "50%          7.000000       1.044700e+04    9.590000e+02        9.436000e+03   \n",
       "75%         12.000000       1.163590e+05    1.694000e+03        9.806800e+04   \n",
       "max         19.000000       1.107983e+06    4.493626e+06        4.514321e+06   \n",
       "\n",
       "       ganhos_mensais_estimados_minimo  \\\n",
       "count                     1.349000e+03   \n",
       "mean                      4.314572e+04   \n",
       "std                       1.242188e+05   \n",
       "min                       0.000000e+00   \n",
       "25%                       8.920000e+02   \n",
       "50%                       1.110000e+04   \n",
       "75%                       4.380000e+04   \n",
       "max                       3.300000e+06   \n",
       "\n",
       "       total_de_visualizacoes_ultimos_30_dias  \\\n",
       "count                            1.349000e+03   \n",
       "mean                             1.652196e+08   \n",
       "std                              5.053290e+08   \n",
       "min                             -3.350000e+09   \n",
       "25%                              3.232000e+06   \n",
       "50%                              4.337100e+07   \n",
       "75%                              1.746600e+08   \n",
       "max                              1.318700e+10   \n",
       "\n",
       "       total_de_inscritos_ultimos_30_dias  total_usuarios_estimado_por_pais  \\\n",
       "count                        1.349000e+03                      1.349000e+03   \n",
       "mean                         2.595550e+05                      1.645518e+08   \n",
       "std                          9.264455e+05                      1.631070e+08   \n",
       "min                         -1.000000e+05                      1.000000e+04   \n",
       "25%                          8.000000e+03                      2.760000e+07   \n",
       "50%                          9.000000e+04                      1.380000e+08   \n",
       "75%                          3.000000e+05                      2.470000e+08   \n",
       "max                          2.700000e+07                      4.760000e+08   \n",
       "\n",
       "       populacao_2022  pib_nominal_2022  pib_per_capita_2022  \\\n",
       "count    1.349000e+03      1.349000e+03          1349.000000   \n",
       "mean     3.630270e+08      6.253066e+12         31178.700154   \n",
       "std      4.927919e+08      9.307698e+12         30567.612537   \n",
       "min      1.504000e+04      3.360000e+08           352.603733   \n",
       "25%      4.623483e+07      6.311334e+11          5715.280221   \n",
       "50%      2.153135e+08      1.920096e+12         13974.449249   \n",
       "75%      3.332714e+08      3.416646e+12         55509.393176   \n",
       "max      1.417173e+09      2.543970e+13        187267.132381   \n",
       "\n",
       "       expectativa_de_vida_2022  taxa_de_natalidade  \\\n",
       "count               1349.000000         1349.000000   \n",
       "mean                  75.222277           13.790178   \n",
       "std                    5.529181            4.607557   \n",
       "min                   60.958000            6.400000   \n",
       "25%                   71.475000           11.000000   \n",
       "50%                   76.064000           12.600000   \n",
       "75%                   79.720000           17.860000   \n",
       "max                   84.500000           40.730000   \n",
       "\n",
       "       taxa_alfabetizacao_total_%  taxa_alfabetizacao_masculina_%  \\\n",
       "count                 1349.000000                     1349.000000   \n",
       "mean                    89.642031                       91.587324   \n",
       "std                     10.482595                        7.560723   \n",
       "min                     38.200000                       52.000000   \n",
       "25%                     88.000000                       88.000000   \n",
       "50%                     92.600000                       92.200000   \n",
       "75%                     98.800000                       99.000000   \n",
       "max                     99.900000                      100.000000   \n",
       "\n",
       "       taxa_alfabetizacao_feminina_%  \\\n",
       "count                    1349.000000   \n",
       "mean                       87.551816   \n",
       "std                        13.950173   \n",
       "min                        24.200000   \n",
       "25%                        88.000000   \n",
       "50%                        92.900000   \n",
       "75%                        98.700000   \n",
       "max                       100.000000   \n",
       "\n",
       "       diferenca_alfabetizacao_masculino_feminino  taxa_desemprego_2022_%  \\\n",
       "count                                 1349.000000             1349.000000   \n",
       "mean                                     4.036471                5.834122   \n",
       "std                                      7.422765                3.604580   \n",
       "min                                     -9.100000                0.909000   \n",
       "25%                                      0.000000                3.650000   \n",
       "50%                                      0.000000                4.822000   \n",
       "75%                                      4.200000                7.392000   \n",
       "max                                     27.800000               28.838000   \n",
       "\n",
       "       taxa_de_pobreza  indice_de_watts     IDH_2021  \\\n",
       "count      1349.000000      1349.000000  1349.000000   \n",
       "mean          0.044547         0.020352     0.808743   \n",
       "std           0.072291         0.035994     0.118113   \n",
       "min           0.000000         0.000000     0.478000   \n",
       "25%           0.002487         0.003320     0.717000   \n",
       "50%           0.008145         0.014403     0.822000   \n",
       "75%           0.090000         0.020000     0.921000   \n",
       "max           0.494000         0.300000     0.962000   \n",
       "\n",
       "       indice_de_corrupcao_score  nivel_de_urbanizacao_2023_%_da_pop  \\\n",
       "count                1349.000000                         1349.000000   \n",
       "mean                   52.111828                           71.649003   \n",
       "std                    17.888796                           19.724175   \n",
       "min                    17.000000                           14.538000   \n",
       "25%                    36.000000                           62.818000   \n",
       "50%                    42.000000                           81.509000   \n",
       "75%                    69.000000                           84.398000   \n",
       "max                    90.000000                          100.000000   \n",
       "\n",
       "       media_de_inscritos_por_video  media_de_visualizacoes_por_video  \\\n",
       "count                  1.349000e+03                      1.349000e+03   \n",
       "mean                            inf                               inf   \n",
       "std                             NaN                               NaN   \n",
       "min                    0.000000e+00                      0.000000e+00   \n",
       "25%                    1.353846e+02                      3.593713e+04   \n",
       "50%                    2.878571e+03                      1.018355e+06   \n",
       "75%                    1.309524e+04                      4.813721e+06   \n",
       "max                             inf                               inf   \n",
       "\n",
       "       media_videos_publicados_por_dia  media_videos_publicados_por_mes  \\\n",
       "count                      1349.000000                      1349.000000   \n",
       "mean                        624.794906                        52.066242   \n",
       "std                        2904.909754                       242.075813   \n",
       "min                           0.000000                         0.000000   \n",
       "25%                          39.250000                         3.270833   \n",
       "50%                         133.200000                        11.100000   \n",
       "75%                         339.166667                        28.263889   \n",
       "max                       57964.000000                      4830.333333   \n",
       "\n",
       "       media_videos_publicados_por_ano  \\\n",
       "count                      1349.000000   \n",
       "mean                        624.794906   \n",
       "std                        2904.909754   \n",
       "min                           0.000000   \n",
       "25%                          39.250000   \n",
       "50%                         133.200000   \n",
       "75%                         339.166667   \n",
       "max                       57964.000000   \n",
       "\n",
       "       proporcao_usuarios_youtube_x_populacao_pais  \\\n",
       "count                                  1349.000000   \n",
       "mean                                      0.653895   \n",
       "std                                       0.225441   \n",
       "min                                       0.000007   \n",
       "25%                                       0.494417   \n",
       "50%                                       0.741138   \n",
       "75%                                       0.828578   \n",
       "max                                       1.000000   \n",
       "\n",
       "       relacao_pib_per_capita_x_ganhos_mensais_estimados_minimo  \\\n",
       "count                                        1349.000000          \n",
       "mean                                                 inf          \n",
       "std                                                  NaN          \n",
       "min                                             0.002151          \n",
       "25%                                             0.347489          \n",
       "50%                                             2.110431          \n",
       "75%                                            19.311668          \n",
       "max                                                  inf          \n",
       "\n",
       "       media_crescimento_inscritos_dia  media_crescimento_inscritos_mes  \\\n",
       "count                     1.349000e+03                     1.349000e+03   \n",
       "mean                               inf                              inf   \n",
       "std                                NaN                              NaN   \n",
       "min                       0.000000e+00                     0.000000e+00   \n",
       "25%                       1.193333e+04                     9.944444e+02   \n",
       "50%                       4.942857e+05                     4.119048e+04   \n",
       "75%                       2.136364e+06                     1.780303e+05   \n",
       "max                                inf                              inf   \n",
       "\n",
       "       media_crescimento_visualizacoes_dia  \n",
       "count                         1.349000e+03  \n",
       "mean                                   inf  \n",
       "std                                    NaN  \n",
       "min                           0.000000e+00  \n",
       "25%                           2.131713e+06  \n",
       "50%                           1.556202e+08  \n",
       "75%                           8.463515e+08  \n",
       "max                                    inf  "
      ]
     },
     "execution_count": 146,
     "metadata": {},
     "output_type": "execute_result"
    }
   ],
   "source": [
    "dados.describe()"
   ]
  },
  {
   "cell_type": "code",
   "execution_count": null,
   "id": "6c1258bd",
   "metadata": {},
   "outputs": [],
   "source": [
    "file_path_dados = 'dashboard_visualizacao/dados_da.csv'\n",
    "dados = pd.read_csv(file_path_dados)"
   ]
  },
  {
   "cell_type": "code",
   "execution_count": null,
   "id": "d6fe9dac",
   "metadata": {},
   "outputs": [],
   "source": []
  },
  {
   "cell_type": "code",
   "execution_count": 74,
   "id": "be28e6f7",
   "metadata": {},
   "outputs": [
    {
     "data": {
      "text/plain": [
       "21100.49"
      ]
     },
     "execution_count": 74,
     "metadata": {},
     "output_type": "execute_result"
    }
   ],
   "source": [
    "dados_brasil['ganhos_mensais_estimados_minimo'].mean()"
   ]
  },
  {
   "cell_type": "code",
   "execution_count": 139,
   "id": "632ee4db",
   "metadata": {},
   "outputs": [
    {
     "data": {
      "text/html": [
       "<div>\n",
       "<style scoped>\n",
       "    .dataframe tbody tr th:only-of-type {\n",
       "        vertical-align: middle;\n",
       "    }\n",
       "\n",
       "    .dataframe tbody tr th {\n",
       "        vertical-align: top;\n",
       "    }\n",
       "\n",
       "    .dataframe thead th {\n",
       "        text-align: right;\n",
       "    }\n",
       "</style>\n",
       "<table border=\"1\" class=\"dataframe\">\n",
       "  <thead>\n",
       "    <tr style=\"text-align: right;\">\n",
       "      <th></th>\n",
       "      <th>nome_do_canal</th>\n",
       "      <th>total_de_videos_publicado</th>\n",
       "      <th>total_de_inscritos</th>\n",
       "      <th>total_de_visualizacoes</th>\n",
       "      <th>pais</th>\n",
       "      <th>tipo_do_canal</th>\n",
       "      <th>dia_criacao_do_canal</th>\n",
       "      <th>mes_criacao_do_canal</th>\n",
       "      <th>ano_criacao_do_canal</th>\n",
       "      <th>idade_do_canal</th>\n",
       "      <th>rank_social_blade</th>\n",
       "      <th>rank_inscritos</th>\n",
       "      <th>rank_visualizacoes</th>\n",
       "      <th>rank_pais</th>\n",
       "      <th>ganhos_mensais_estimados_minimo</th>\n",
       "      <th>total_de_visualizacoes_ultimos_30_dias</th>\n",
       "      <th>total_de_inscritos_ultimos_30_dias</th>\n",
       "      <th>total_usuarios_estimado_por_pais</th>\n",
       "      <th>populacao_2022</th>\n",
       "      <th>pib_nominal_2022</th>\n",
       "      <th>pib_per_capita_2022</th>\n",
       "      <th>expectativa_de_vida_2022</th>\n",
       "      <th>taxa_de_natalidade</th>\n",
       "      <th>taxa_alfabetizacao_total_%</th>\n",
       "      <th>taxa_alfabetizacao_masculina_%</th>\n",
       "      <th>taxa_alfabetizacao_feminina_%</th>\n",
       "      <th>diferenca_alfabetizacao_masculino_feminino</th>\n",
       "      <th>taxa_desemprego_2022_%</th>\n",
       "      <th>taxa_de_pobreza</th>\n",
       "      <th>indice_de_watts</th>\n",
       "      <th>human_development_groups</th>\n",
       "      <th>IDH_2021</th>\n",
       "      <th>indice_de_corrupcao_score</th>\n",
       "      <th>nivel_de_urbanizacao_2023_%_da_pop</th>\n",
       "      <th>continente</th>\n",
       "      <th>media_de_inscritos_por_video</th>\n",
       "      <th>media_de_visualizacoes_por_video</th>\n",
       "      <th>media_videos_publicados_por_dia</th>\n",
       "      <th>media_videos_publicados_por_mes</th>\n",
       "      <th>media_videos_publicados_por_ano</th>\n",
       "      <th>proporcao_usuarios_youtube_x_populacao_pais</th>\n",
       "      <th>relacao_pib_per_capita_x_ganhos_mensais_estimados_minimo</th>\n",
       "      <th>media_crescimento_inscritos_dia</th>\n",
       "      <th>media_crescimento_inscritos_mes</th>\n",
       "      <th>media_crescimento_visualizacoes_dia</th>\n",
       "    </tr>\n",
       "  </thead>\n",
       "  <tbody>\n",
       "    <tr>\n",
       "      <th>1315</th>\n",
       "      <td>Jake Fellman</td>\n",
       "      <td>441</td>\n",
       "      <td>24000000.0</td>\n",
       "      <td>1.535200e+10</td>\n",
       "      <td>United States</td>\n",
       "      <td>Entertainment</td>\n",
       "      <td>13</td>\n",
       "      <td>10</td>\n",
       "      <td>2012</td>\n",
       "      <td>11</td>\n",
       "      <td>339.0</td>\n",
       "      <td>221.0</td>\n",
       "      <td>305.0</td>\n",
       "      <td>95</td>\n",
       "      <td>105500.0</td>\n",
       "      <td>421932000.0</td>\n",
       "      <td>700000.0</td>\n",
       "      <td>247000000.0</td>\n",
       "      <td>333271411.0</td>\n",
       "      <td>2.543970e+13</td>\n",
       "      <td>77246.673883</td>\n",
       "      <td>77.434146</td>\n",
       "      <td>11.6</td>\n",
       "      <td>88.0</td>\n",
       "      <td>88.0</td>\n",
       "      <td>88.0</td>\n",
       "      <td>0.0</td>\n",
       "      <td>3.65</td>\n",
       "      <td>0.002487</td>\n",
       "      <td>0.017836</td>\n",
       "      <td>Very High</td>\n",
       "      <td>0.921</td>\n",
       "      <td>69.0</td>\n",
       "      <td>83.084</td>\n",
       "      <td>North America</td>\n",
       "      <td>54421.768707</td>\n",
       "      <td>3.481179e+07</td>\n",
       "      <td>40.090909</td>\n",
       "      <td>3.340909</td>\n",
       "      <td>40.090909</td>\n",
       "      <td>0.741138</td>\n",
       "      <td>0.732196</td>\n",
       "      <td>2.181818e+06</td>\n",
       "      <td>181818.181818</td>\n",
       "      <td>1.395637e+09</td>\n",
       "    </tr>\n",
       "    <tr>\n",
       "      <th>1317</th>\n",
       "      <td>Dr Ryan</td>\n",
       "      <td>1512</td>\n",
       "      <td>17500000.0</td>\n",
       "      <td>9.590972e+09</td>\n",
       "      <td>United States</td>\n",
       "      <td>Entertainment</td>\n",
       "      <td>10</td>\n",
       "      <td>7</td>\n",
       "      <td>2020</td>\n",
       "      <td>3</td>\n",
       "      <td>1083.0</td>\n",
       "      <td>286.0</td>\n",
       "      <td>676.0</td>\n",
       "      <td>149</td>\n",
       "      <td>54600.0</td>\n",
       "      <td>218317000.0</td>\n",
       "      <td>400000.0</td>\n",
       "      <td>247000000.0</td>\n",
       "      <td>333271411.0</td>\n",
       "      <td>2.543970e+13</td>\n",
       "      <td>77246.673883</td>\n",
       "      <td>77.434146</td>\n",
       "      <td>11.6</td>\n",
       "      <td>88.0</td>\n",
       "      <td>88.0</td>\n",
       "      <td>88.0</td>\n",
       "      <td>0.0</td>\n",
       "      <td>3.65</td>\n",
       "      <td>0.002487</td>\n",
       "      <td>0.017836</td>\n",
       "      <td>Very High</td>\n",
       "      <td>0.921</td>\n",
       "      <td>69.0</td>\n",
       "      <td>83.084</td>\n",
       "      <td>North America</td>\n",
       "      <td>11574.074074</td>\n",
       "      <td>6.343235e+06</td>\n",
       "      <td>504.000000</td>\n",
       "      <td>42.000000</td>\n",
       "      <td>504.000000</td>\n",
       "      <td>0.741138</td>\n",
       "      <td>1.414774</td>\n",
       "      <td>5.833333e+06</td>\n",
       "      <td>486111.111111</td>\n",
       "      <td>3.196991e+09</td>\n",
       "    </tr>\n",
       "  </tbody>\n",
       "</table>\n",
       "</div>"
      ],
      "text/plain": [
       "     nome_do_canal  total_de_videos_publicado  total_de_inscritos  \\\n",
       "1315  Jake Fellman                        441          24000000.0   \n",
       "1317       Dr Ryan                       1512          17500000.0   \n",
       "\n",
       "      total_de_visualizacoes           pais  tipo_do_canal  \\\n",
       "1315            1.535200e+10  United States  Entertainment   \n",
       "1317            9.590972e+09  United States  Entertainment   \n",
       "\n",
       "      dia_criacao_do_canal  mes_criacao_do_canal  ano_criacao_do_canal  \\\n",
       "1315                    13                    10                  2012   \n",
       "1317                    10                     7                  2020   \n",
       "\n",
       "      idade_do_canal  rank_social_blade  rank_inscritos  rank_visualizacoes  \\\n",
       "1315              11              339.0           221.0               305.0   \n",
       "1317               3             1083.0           286.0               676.0   \n",
       "\n",
       "     rank_pais  ganhos_mensais_estimados_minimo  \\\n",
       "1315        95                         105500.0   \n",
       "1317       149                          54600.0   \n",
       "\n",
       "      total_de_visualizacoes_ultimos_30_dias  \\\n",
       "1315                             421932000.0   \n",
       "1317                             218317000.0   \n",
       "\n",
       "      total_de_inscritos_ultimos_30_dias  total_usuarios_estimado_por_pais  \\\n",
       "1315                            700000.0                       247000000.0   \n",
       "1317                            400000.0                       247000000.0   \n",
       "\n",
       "      populacao_2022  pib_nominal_2022  pib_per_capita_2022  \\\n",
       "1315     333271411.0      2.543970e+13         77246.673883   \n",
       "1317     333271411.0      2.543970e+13         77246.673883   \n",
       "\n",
       "      expectativa_de_vida_2022  taxa_de_natalidade  \\\n",
       "1315                 77.434146                11.6   \n",
       "1317                 77.434146                11.6   \n",
       "\n",
       "      taxa_alfabetizacao_total_%  taxa_alfabetizacao_masculina_%  \\\n",
       "1315                        88.0                            88.0   \n",
       "1317                        88.0                            88.0   \n",
       "\n",
       "      taxa_alfabetizacao_feminina_%  \\\n",
       "1315                           88.0   \n",
       "1317                           88.0   \n",
       "\n",
       "      diferenca_alfabetizacao_masculino_feminino  taxa_desemprego_2022_%  \\\n",
       "1315                                         0.0                    3.65   \n",
       "1317                                         0.0                    3.65   \n",
       "\n",
       "      taxa_de_pobreza  indice_de_watts human_development_groups  IDH_2021  \\\n",
       "1315         0.002487         0.017836                Very High     0.921   \n",
       "1317         0.002487         0.017836                Very High     0.921   \n",
       "\n",
       "      indice_de_corrupcao_score  nivel_de_urbanizacao_2023_%_da_pop  \\\n",
       "1315                       69.0                              83.084   \n",
       "1317                       69.0                              83.084   \n",
       "\n",
       "         continente  media_de_inscritos_por_video  \\\n",
       "1315  North America                  54421.768707   \n",
       "1317  North America                  11574.074074   \n",
       "\n",
       "      media_de_visualizacoes_por_video  media_videos_publicados_por_dia  \\\n",
       "1315                      3.481179e+07                        40.090909   \n",
       "1317                      6.343235e+06                       504.000000   \n",
       "\n",
       "      media_videos_publicados_por_mes  media_videos_publicados_por_ano  \\\n",
       "1315                         3.340909                        40.090909   \n",
       "1317                        42.000000                       504.000000   \n",
       "\n",
       "      proporcao_usuarios_youtube_x_populacao_pais  \\\n",
       "1315                                     0.741138   \n",
       "1317                                     0.741138   \n",
       "\n",
       "      relacao_pib_per_capita_x_ganhos_mensais_estimados_minimo  \\\n",
       "1315                                           0.732196          \n",
       "1317                                           1.414774          \n",
       "\n",
       "      media_crescimento_inscritos_dia  media_crescimento_inscritos_mes  \\\n",
       "1315                     2.181818e+06                    181818.181818   \n",
       "1317                     5.833333e+06                    486111.111111   \n",
       "\n",
       "      media_crescimento_visualizacoes_dia  \n",
       "1315                         1.395637e+09  \n",
       "1317                         3.196991e+09  "
      ]
     },
     "execution_count": 139,
     "metadata": {},
     "output_type": "execute_result"
    }
   ],
   "source": [
    "dados.sample(2)"
   ]
  },
  {
   "cell_type": "code",
   "execution_count": null,
   "id": "34adfe58",
   "metadata": {},
   "outputs": [],
   "source": []
  },
  {
   "cell_type": "code",
   "execution_count": null,
   "id": "3f8142ae",
   "metadata": {},
   "outputs": [],
   "source": []
  },
  {
   "cell_type": "code",
   "execution_count": null,
   "id": "ea37018c",
   "metadata": {},
   "outputs": [],
   "source": []
  },
  {
   "cell_type": "code",
   "execution_count": null,
   "id": "4d54f670",
   "metadata": {},
   "outputs": [],
   "source": []
  },
  {
   "cell_type": "markdown",
   "id": "5d04c356",
   "metadata": {},
   "source": [
    "<br><br><br>\n",
    "    \n",
    "Com base nas suas instruções e estrutura proposta, aqui estão algumas sugestões adicionais para cada menu que podem enriquecer a análise:\n",
    "\n",
    "## MENU VISÃO GERAL\n",
    "### Gráficos de Visão Geral:\n",
    "\n",
    "- Total de Criação de Canal Por Mês: Já incluído.\n",
    "- Total de Criação de Canal Por Ano: Já incluído.\n",
    "- Total de Vídeos Publicados por Mês: Já incluído.\n",
    "- Total de Vídeos Publicados por Ano: Já incluído.\n",
    "- Total de Vídeos Visualizados por Mês: Já incluído.\n",
    "- Total de Vídeos Visualizados por Ano: Já incluído.\n",
    "- Taxa de Crescimento de Visualizações por Ano: Já incluído..\n",
    "\n",
    "#### Adicionar\n",
    "\n",
    "- Top 10 canais com mais inscritos (grafico de barras) Já incluído.\n",
    "- top 30 canais com mais inscritos (Treemap (Mapa de Árvore)) Já incluído.\n",
    "- Top 10 canais com mais vídeos publicados (grafico de barras) Já incluído.\n",
    "- top 30 canais com mais vídeos publicados (Treemap (Mapa de Árvore)) Já incluído.\n",
    "- Top 10 canais com mais visualizações (grafico de barras) Já incluído.\n",
    "- top 30 canais com mais visualizações (Bubble Chart (Gráfico de Bolhas)) Já incluído.\n",
    "\n",
    "\n",
    "\n",
    "## MENU VISÃO POR PAÍS\n",
    "### Gráficos de País:\n",
    "\n",
    "- Mapa Interativo: Mostrar o total de usuários agrupados por país, com tooltip exibindo a quantidade de usuários.\n",
    "- Mapa de Proporção de Usuários: Mostrar a proporção de usuários do YouTube em relação à população total de cada país.\n",
    "\n",
    "#### Sugestões Adicionais:\n",
    "\n",
    "- Total de Inscritos por País: Gráfico de barras mostrando o total de inscritos por país.\n",
    "- Total de Visualizações por País: Gráfico de barras mostrando o total de visualizações por país.\n",
    "- Ganho Médio por Canal por País: Gráfico de barras mostrando o ganho médio por canal em cada país.\n",
    "\n",
    "## MENU VISÃO POR TIPO DO CANAL\n",
    "### Gráficos de Tipo de Canal:\n",
    "\n",
    "- Treemap Interativo:\n",
    "Dropdown menu para selecionar o país.\n",
    "Gráfico treemap mostrando os tipos de canais e o total de cada tipo para o país selecionado.\n",
    "\n",
    "#### Sugestões Adicionais:\n",
    "\n",
    "- Distribuição de Inscritos por Tipo de Canal: Gráfico de barras mostrando a distribuição total de inscritos por tipo de canal.\n",
    "- Distribuição de Visualizações por Tipo de Canal: Gráfico de barras mostrando a distribuição total de visualizações por tipo de canal.\n",
    "- Crescimento de Inscritos por Tipo de Canal: Gráfico de linhas mostrando o crescimento de inscritos ao longo do tempo para diferentes tipos de canais.\n",
    "\n",
    "## MENU VISÃO CANAIS INDIVIDUAIS\n",
    "### Gráficos Relacionados a um Canal Específico:\n",
    "\n",
    "- Lista de Canais em Ordem Alfabética:\n",
    "Dropdown menu para selecionar o canal.\n",
    "Gráficos individuais referentes ao canal escolhido.\n",
    "\n",
    "#### Sugestões Adicionais:\n",
    "\n",
    "- Evolução de Inscritos ao Longo do Tempo: Gráfico de linhas mostrando o crescimento de inscritos para o canal selecionado.\n",
    "- Evolução de Visualizações ao Longo do Tempo: Gráfico de linhas mostrando o crescimento de visualizações para o canal selecionado.\n",
    "- Relação Entre Publicações e Engajamento: Gráfico de dispersão mostrando a relação entre o número de vídeos publicados e o engajamento (inscritos/visualizações) para o canal selecionado.\n",
    "- Comparação com Média do Tipo de Canal: Gráficos comparando as métricas do canal selecionado com a média de outros canais do mesmo tipo.\n",
    "\n",
    "\n",
    "Estas sugestões visam oferecer uma visão mais ampla e detalhada dos dados, ajudando a identificar tendências, padrões e insights significativos. Se você gostar de alguma dessas ideias ou quiser ajustar algo, podemos discutir mais detalhadamente.\n",
    "\n",
    "\n",
    "\n"
   ]
  },
  {
   "cell_type": "code",
   "execution_count": 152,
   "id": "823fe33d",
   "metadata": {},
   "outputs": [
    {
     "data": {
      "application/vnd.plotly.v1+json": {
       "config": {
        "plotlyServerURL": "https://plot.ly"
       },
       "data": [
        {
         "name": "Total de Inscritos",
         "type": "bar",
         "x": [
          "Valor Canal",
          "Valor Médio Tipo"
         ],
         "xaxis": "x",
         "y": [
          244000,
          7838271.897953269
         ],
         "yaxis": "y"
        },
        {
         "name": "Total de Visualizações",
         "type": "bar",
         "x": [
          "Valor Canal",
          "Valor Médio Tipo"
         ],
         "xaxis": "x2",
         "y": [
          56188836,
          2784785480.011469
         ],
         "yaxis": "y2"
        },
        {
         "name": "Total de Vídeos Publicados",
         "type": "bar",
         "x": [
          "Valor Canal",
          "Valor Médio Tipo"
         ],
         "xaxis": "x3",
         "y": [
          237,
          4221.711340206186
         ],
         "yaxis": "y3"
        },
        {
         "name": "Ganhos Mensais Estimados",
         "type": "bar",
         "x": [
          "Valor Canal",
          "Valor Médio Tipo"
         ],
         "xaxis": "x4",
         "y": [
          4300,
          23360.378969072164
         ],
         "yaxis": "y4"
        }
       ],
       "layout": {
        "annotations": [
         {
          "font": {
           "size": 16
          },
          "showarrow": false,
          "text": "Total de Inscritos",
          "x": 0.225,
          "xanchor": "center",
          "xref": "paper",
          "y": 1,
          "yanchor": "bottom",
          "yref": "paper"
         },
         {
          "font": {
           "size": 16
          },
          "showarrow": false,
          "text": "Total de Visualizações",
          "x": 0.775,
          "xanchor": "center",
          "xref": "paper",
          "y": 1,
          "yanchor": "bottom",
          "yref": "paper"
         },
         {
          "font": {
           "size": 16
          },
          "showarrow": false,
          "text": "Total de Vídeos Publicados",
          "x": 0.225,
          "xanchor": "center",
          "xref": "paper",
          "y": 0.375,
          "yanchor": "bottom",
          "yref": "paper"
         },
         {
          "font": {
           "size": 16
          },
          "showarrow": false,
          "text": "Ganhos Mensais Estimados",
          "x": 0.775,
          "xanchor": "center",
          "xref": "paper",
          "y": 0.375,
          "yanchor": "bottom",
          "yref": "paper"
         }
        ],
        "showlegend": false,
        "template": {
         "data": {
          "bar": [
           {
            "error_x": {
             "color": "#2a3f5f"
            },
            "error_y": {
             "color": "#2a3f5f"
            },
            "marker": {
             "line": {
              "color": "#E5ECF6",
              "width": 0.5
             },
             "pattern": {
              "fillmode": "overlay",
              "size": 10,
              "solidity": 0.2
             }
            },
            "type": "bar"
           }
          ],
          "barpolar": [
           {
            "marker": {
             "line": {
              "color": "#E5ECF6",
              "width": 0.5
             },
             "pattern": {
              "fillmode": "overlay",
              "size": 10,
              "solidity": 0.2
             }
            },
            "type": "barpolar"
           }
          ],
          "carpet": [
           {
            "aaxis": {
             "endlinecolor": "#2a3f5f",
             "gridcolor": "white",
             "linecolor": "white",
             "minorgridcolor": "white",
             "startlinecolor": "#2a3f5f"
            },
            "baxis": {
             "endlinecolor": "#2a3f5f",
             "gridcolor": "white",
             "linecolor": "white",
             "minorgridcolor": "white",
             "startlinecolor": "#2a3f5f"
            },
            "type": "carpet"
           }
          ],
          "choropleth": [
           {
            "colorbar": {
             "outlinewidth": 0,
             "ticks": ""
            },
            "type": "choropleth"
           }
          ],
          "contour": [
           {
            "colorbar": {
             "outlinewidth": 0,
             "ticks": ""
            },
            "colorscale": [
             [
              0,
              "#0d0887"
             ],
             [
              0.1111111111111111,
              "#46039f"
             ],
             [
              0.2222222222222222,
              "#7201a8"
             ],
             [
              0.3333333333333333,
              "#9c179e"
             ],
             [
              0.4444444444444444,
              "#bd3786"
             ],
             [
              0.5555555555555556,
              "#d8576b"
             ],
             [
              0.6666666666666666,
              "#ed7953"
             ],
             [
              0.7777777777777778,
              "#fb9f3a"
             ],
             [
              0.8888888888888888,
              "#fdca26"
             ],
             [
              1,
              "#f0f921"
             ]
            ],
            "type": "contour"
           }
          ],
          "contourcarpet": [
           {
            "colorbar": {
             "outlinewidth": 0,
             "ticks": ""
            },
            "type": "contourcarpet"
           }
          ],
          "heatmap": [
           {
            "colorbar": {
             "outlinewidth": 0,
             "ticks": ""
            },
            "colorscale": [
             [
              0,
              "#0d0887"
             ],
             [
              0.1111111111111111,
              "#46039f"
             ],
             [
              0.2222222222222222,
              "#7201a8"
             ],
             [
              0.3333333333333333,
              "#9c179e"
             ],
             [
              0.4444444444444444,
              "#bd3786"
             ],
             [
              0.5555555555555556,
              "#d8576b"
             ],
             [
              0.6666666666666666,
              "#ed7953"
             ],
             [
              0.7777777777777778,
              "#fb9f3a"
             ],
             [
              0.8888888888888888,
              "#fdca26"
             ],
             [
              1,
              "#f0f921"
             ]
            ],
            "type": "heatmap"
           }
          ],
          "heatmapgl": [
           {
            "colorbar": {
             "outlinewidth": 0,
             "ticks": ""
            },
            "colorscale": [
             [
              0,
              "#0d0887"
             ],
             [
              0.1111111111111111,
              "#46039f"
             ],
             [
              0.2222222222222222,
              "#7201a8"
             ],
             [
              0.3333333333333333,
              "#9c179e"
             ],
             [
              0.4444444444444444,
              "#bd3786"
             ],
             [
              0.5555555555555556,
              "#d8576b"
             ],
             [
              0.6666666666666666,
              "#ed7953"
             ],
             [
              0.7777777777777778,
              "#fb9f3a"
             ],
             [
              0.8888888888888888,
              "#fdca26"
             ],
             [
              1,
              "#f0f921"
             ]
            ],
            "type": "heatmapgl"
           }
          ],
          "histogram": [
           {
            "marker": {
             "pattern": {
              "fillmode": "overlay",
              "size": 10,
              "solidity": 0.2
             }
            },
            "type": "histogram"
           }
          ],
          "histogram2d": [
           {
            "colorbar": {
             "outlinewidth": 0,
             "ticks": ""
            },
            "colorscale": [
             [
              0,
              "#0d0887"
             ],
             [
              0.1111111111111111,
              "#46039f"
             ],
             [
              0.2222222222222222,
              "#7201a8"
             ],
             [
              0.3333333333333333,
              "#9c179e"
             ],
             [
              0.4444444444444444,
              "#bd3786"
             ],
             [
              0.5555555555555556,
              "#d8576b"
             ],
             [
              0.6666666666666666,
              "#ed7953"
             ],
             [
              0.7777777777777778,
              "#fb9f3a"
             ],
             [
              0.8888888888888888,
              "#fdca26"
             ],
             [
              1,
              "#f0f921"
             ]
            ],
            "type": "histogram2d"
           }
          ],
          "histogram2dcontour": [
           {
            "colorbar": {
             "outlinewidth": 0,
             "ticks": ""
            },
            "colorscale": [
             [
              0,
              "#0d0887"
             ],
             [
              0.1111111111111111,
              "#46039f"
             ],
             [
              0.2222222222222222,
              "#7201a8"
             ],
             [
              0.3333333333333333,
              "#9c179e"
             ],
             [
              0.4444444444444444,
              "#bd3786"
             ],
             [
              0.5555555555555556,
              "#d8576b"
             ],
             [
              0.6666666666666666,
              "#ed7953"
             ],
             [
              0.7777777777777778,
              "#fb9f3a"
             ],
             [
              0.8888888888888888,
              "#fdca26"
             ],
             [
              1,
              "#f0f921"
             ]
            ],
            "type": "histogram2dcontour"
           }
          ],
          "mesh3d": [
           {
            "colorbar": {
             "outlinewidth": 0,
             "ticks": ""
            },
            "type": "mesh3d"
           }
          ],
          "parcoords": [
           {
            "line": {
             "colorbar": {
              "outlinewidth": 0,
              "ticks": ""
             }
            },
            "type": "parcoords"
           }
          ],
          "pie": [
           {
            "automargin": true,
            "type": "pie"
           }
          ],
          "scatter": [
           {
            "fillpattern": {
             "fillmode": "overlay",
             "size": 10,
             "solidity": 0.2
            },
            "type": "scatter"
           }
          ],
          "scatter3d": [
           {
            "line": {
             "colorbar": {
              "outlinewidth": 0,
              "ticks": ""
             }
            },
            "marker": {
             "colorbar": {
              "outlinewidth": 0,
              "ticks": ""
             }
            },
            "type": "scatter3d"
           }
          ],
          "scattercarpet": [
           {
            "marker": {
             "colorbar": {
              "outlinewidth": 0,
              "ticks": ""
             }
            },
            "type": "scattercarpet"
           }
          ],
          "scattergeo": [
           {
            "marker": {
             "colorbar": {
              "outlinewidth": 0,
              "ticks": ""
             }
            },
            "type": "scattergeo"
           }
          ],
          "scattergl": [
           {
            "marker": {
             "colorbar": {
              "outlinewidth": 0,
              "ticks": ""
             }
            },
            "type": "scattergl"
           }
          ],
          "scattermapbox": [
           {
            "marker": {
             "colorbar": {
              "outlinewidth": 0,
              "ticks": ""
             }
            },
            "type": "scattermapbox"
           }
          ],
          "scatterpolar": [
           {
            "marker": {
             "colorbar": {
              "outlinewidth": 0,
              "ticks": ""
             }
            },
            "type": "scatterpolar"
           }
          ],
          "scatterpolargl": [
           {
            "marker": {
             "colorbar": {
              "outlinewidth": 0,
              "ticks": ""
             }
            },
            "type": "scatterpolargl"
           }
          ],
          "scatterternary": [
           {
            "marker": {
             "colorbar": {
              "outlinewidth": 0,
              "ticks": ""
             }
            },
            "type": "scatterternary"
           }
          ],
          "surface": [
           {
            "colorbar": {
             "outlinewidth": 0,
             "ticks": ""
            },
            "colorscale": [
             [
              0,
              "#0d0887"
             ],
             [
              0.1111111111111111,
              "#46039f"
             ],
             [
              0.2222222222222222,
              "#7201a8"
             ],
             [
              0.3333333333333333,
              "#9c179e"
             ],
             [
              0.4444444444444444,
              "#bd3786"
             ],
             [
              0.5555555555555556,
              "#d8576b"
             ],
             [
              0.6666666666666666,
              "#ed7953"
             ],
             [
              0.7777777777777778,
              "#fb9f3a"
             ],
             [
              0.8888888888888888,
              "#fdca26"
             ],
             [
              1,
              "#f0f921"
             ]
            ],
            "type": "surface"
           }
          ],
          "table": [
           {
            "cells": {
             "fill": {
              "color": "#EBF0F8"
             },
             "line": {
              "color": "white"
             }
            },
            "header": {
             "fill": {
              "color": "#C8D4E3"
             },
             "line": {
              "color": "white"
             }
            },
            "type": "table"
           }
          ]
         },
         "layout": {
          "annotationdefaults": {
           "arrowcolor": "#2a3f5f",
           "arrowhead": 0,
           "arrowwidth": 1
          },
          "autotypenumbers": "strict",
          "coloraxis": {
           "colorbar": {
            "outlinewidth": 0,
            "ticks": ""
           }
          },
          "colorscale": {
           "diverging": [
            [
             0,
             "#8e0152"
            ],
            [
             0.1,
             "#c51b7d"
            ],
            [
             0.2,
             "#de77ae"
            ],
            [
             0.3,
             "#f1b6da"
            ],
            [
             0.4,
             "#fde0ef"
            ],
            [
             0.5,
             "#f7f7f7"
            ],
            [
             0.6,
             "#e6f5d0"
            ],
            [
             0.7,
             "#b8e186"
            ],
            [
             0.8,
             "#7fbc41"
            ],
            [
             0.9,
             "#4d9221"
            ],
            [
             1,
             "#276419"
            ]
           ],
           "sequential": [
            [
             0,
             "#0d0887"
            ],
            [
             0.1111111111111111,
             "#46039f"
            ],
            [
             0.2222222222222222,
             "#7201a8"
            ],
            [
             0.3333333333333333,
             "#9c179e"
            ],
            [
             0.4444444444444444,
             "#bd3786"
            ],
            [
             0.5555555555555556,
             "#d8576b"
            ],
            [
             0.6666666666666666,
             "#ed7953"
            ],
            [
             0.7777777777777778,
             "#fb9f3a"
            ],
            [
             0.8888888888888888,
             "#fdca26"
            ],
            [
             1,
             "#f0f921"
            ]
           ],
           "sequentialminus": [
            [
             0,
             "#0d0887"
            ],
            [
             0.1111111111111111,
             "#46039f"
            ],
            [
             0.2222222222222222,
             "#7201a8"
            ],
            [
             0.3333333333333333,
             "#9c179e"
            ],
            [
             0.4444444444444444,
             "#bd3786"
            ],
            [
             0.5555555555555556,
             "#d8576b"
            ],
            [
             0.6666666666666666,
             "#ed7953"
            ],
            [
             0.7777777777777778,
             "#fb9f3a"
            ],
            [
             0.8888888888888888,
             "#fdca26"
            ],
            [
             1,
             "#f0f921"
            ]
           ]
          },
          "colorway": [
           "#636efa",
           "#EF553B",
           "#00cc96",
           "#ab63fa",
           "#FFA15A",
           "#19d3f3",
           "#FF6692",
           "#B6E880",
           "#FF97FF",
           "#FECB52"
          ],
          "font": {
           "color": "#2a3f5f"
          },
          "geo": {
           "bgcolor": "white",
           "lakecolor": "white",
           "landcolor": "#E5ECF6",
           "showlakes": true,
           "showland": true,
           "subunitcolor": "white"
          },
          "hoverlabel": {
           "align": "left"
          },
          "hovermode": "closest",
          "mapbox": {
           "style": "light"
          },
          "paper_bgcolor": "white",
          "plot_bgcolor": "#E5ECF6",
          "polar": {
           "angularaxis": {
            "gridcolor": "white",
            "linecolor": "white",
            "ticks": ""
           },
           "bgcolor": "#E5ECF6",
           "radialaxis": {
            "gridcolor": "white",
            "linecolor": "white",
            "ticks": ""
           }
          },
          "scene": {
           "xaxis": {
            "backgroundcolor": "#E5ECF6",
            "gridcolor": "white",
            "gridwidth": 2,
            "linecolor": "white",
            "showbackground": true,
            "ticks": "",
            "zerolinecolor": "white"
           },
           "yaxis": {
            "backgroundcolor": "#E5ECF6",
            "gridcolor": "white",
            "gridwidth": 2,
            "linecolor": "white",
            "showbackground": true,
            "ticks": "",
            "zerolinecolor": "white"
           },
           "zaxis": {
            "backgroundcolor": "#E5ECF6",
            "gridcolor": "white",
            "gridwidth": 2,
            "linecolor": "white",
            "showbackground": true,
            "ticks": "",
            "zerolinecolor": "white"
           }
          },
          "shapedefaults": {
           "line": {
            "color": "#2a3f5f"
           }
          },
          "ternary": {
           "aaxis": {
            "gridcolor": "white",
            "linecolor": "white",
            "ticks": ""
           },
           "baxis": {
            "gridcolor": "white",
            "linecolor": "white",
            "ticks": ""
           },
           "bgcolor": "#E5ECF6",
           "caxis": {
            "gridcolor": "white",
            "linecolor": "white",
            "ticks": ""
           }
          },
          "title": {
           "x": 0.05
          },
          "xaxis": {
           "automargin": true,
           "gridcolor": "white",
           "linecolor": "white",
           "ticks": "",
           "title": {
            "standoff": 15
           },
           "zerolinecolor": "white",
           "zerolinewidth": 2
          },
          "yaxis": {
           "automargin": true,
           "gridcolor": "white",
           "linecolor": "white",
           "ticks": "",
           "title": {
            "standoff": 15
           },
           "zerolinecolor": "white",
           "zerolinewidth": 2
          }
         }
        },
        "title": {
         "text": "Comparação das Métricas do Canal PNation com a Média do Tipo de Canal"
        },
        "xaxis": {
         "anchor": "y",
         "domain": [
          0,
          0.45
         ]
        },
        "xaxis2": {
         "anchor": "y2",
         "domain": [
          0.55,
          1
         ]
        },
        "xaxis3": {
         "anchor": "y3",
         "domain": [
          0,
          0.45
         ]
        },
        "xaxis4": {
         "anchor": "y4",
         "domain": [
          0.55,
          1
         ]
        },
        "yaxis": {
         "anchor": "x",
         "domain": [
          0.625,
          1
         ]
        },
        "yaxis2": {
         "anchor": "x2",
         "domain": [
          0.625,
          1
         ]
        },
        "yaxis3": {
         "anchor": "x3",
         "domain": [
          0,
          0.375
         ]
        },
        "yaxis4": {
         "anchor": "x4",
         "domain": [
          0,
          0.375
         ]
        }
       }
      },
      "text/html": [
       "<div>                            <div id=\"546800c6-87ed-4404-9c23-c2667c78ddcc\" class=\"plotly-graph-div\" style=\"height:525px; width:100%;\"></div>            <script type=\"text/javascript\">                require([\"plotly\"], function(Plotly) {                    window.PLOTLYENV=window.PLOTLYENV || {};                                    if (document.getElementById(\"546800c6-87ed-4404-9c23-c2667c78ddcc\")) {                    Plotly.newPlot(                        \"546800c6-87ed-4404-9c23-c2667c78ddcc\",                        [{\"name\":\"Total de Inscritos\",\"x\":[\"Valor Canal\",\"Valor M\\u00e9dio Tipo\"],\"y\":[244000.0,7838271.897953269],\"type\":\"bar\",\"xaxis\":\"x\",\"yaxis\":\"y\"},{\"name\":\"Total de Visualiza\\u00e7\\u00f5es\",\"x\":[\"Valor Canal\",\"Valor M\\u00e9dio Tipo\"],\"y\":[56188836.0,2784785480.011469],\"type\":\"bar\",\"xaxis\":\"x2\",\"yaxis\":\"y2\"},{\"name\":\"Total de V\\u00eddeos Publicados\",\"x\":[\"Valor Canal\",\"Valor M\\u00e9dio Tipo\"],\"y\":[237.0,4221.711340206186],\"type\":\"bar\",\"xaxis\":\"x3\",\"yaxis\":\"y3\"},{\"name\":\"Ganhos Mensais Estimados\",\"x\":[\"Valor Canal\",\"Valor M\\u00e9dio Tipo\"],\"y\":[4300.0,23360.378969072164],\"type\":\"bar\",\"xaxis\":\"x4\",\"yaxis\":\"y4\"}],                        {\"template\":{\"data\":{\"histogram2dcontour\":[{\"type\":\"histogram2dcontour\",\"colorbar\":{\"outlinewidth\":0,\"ticks\":\"\"},\"colorscale\":[[0.0,\"#0d0887\"],[0.1111111111111111,\"#46039f\"],[0.2222222222222222,\"#7201a8\"],[0.3333333333333333,\"#9c179e\"],[0.4444444444444444,\"#bd3786\"],[0.5555555555555556,\"#d8576b\"],[0.6666666666666666,\"#ed7953\"],[0.7777777777777778,\"#fb9f3a\"],[0.8888888888888888,\"#fdca26\"],[1.0,\"#f0f921\"]]}],\"choropleth\":[{\"type\":\"choropleth\",\"colorbar\":{\"outlinewidth\":0,\"ticks\":\"\"}}],\"histogram2d\":[{\"type\":\"histogram2d\",\"colorbar\":{\"outlinewidth\":0,\"ticks\":\"\"},\"colorscale\":[[0.0,\"#0d0887\"],[0.1111111111111111,\"#46039f\"],[0.2222222222222222,\"#7201a8\"],[0.3333333333333333,\"#9c179e\"],[0.4444444444444444,\"#bd3786\"],[0.5555555555555556,\"#d8576b\"],[0.6666666666666666,\"#ed7953\"],[0.7777777777777778,\"#fb9f3a\"],[0.8888888888888888,\"#fdca26\"],[1.0,\"#f0f921\"]]}],\"heatmap\":[{\"type\":\"heatmap\",\"colorbar\":{\"outlinewidth\":0,\"ticks\":\"\"},\"colorscale\":[[0.0,\"#0d0887\"],[0.1111111111111111,\"#46039f\"],[0.2222222222222222,\"#7201a8\"],[0.3333333333333333,\"#9c179e\"],[0.4444444444444444,\"#bd3786\"],[0.5555555555555556,\"#d8576b\"],[0.6666666666666666,\"#ed7953\"],[0.7777777777777778,\"#fb9f3a\"],[0.8888888888888888,\"#fdca26\"],[1.0,\"#f0f921\"]]}],\"heatmapgl\":[{\"type\":\"heatmapgl\",\"colorbar\":{\"outlinewidth\":0,\"ticks\":\"\"},\"colorscale\":[[0.0,\"#0d0887\"],[0.1111111111111111,\"#46039f\"],[0.2222222222222222,\"#7201a8\"],[0.3333333333333333,\"#9c179e\"],[0.4444444444444444,\"#bd3786\"],[0.5555555555555556,\"#d8576b\"],[0.6666666666666666,\"#ed7953\"],[0.7777777777777778,\"#fb9f3a\"],[0.8888888888888888,\"#fdca26\"],[1.0,\"#f0f921\"]]}],\"contourcarpet\":[{\"type\":\"contourcarpet\",\"colorbar\":{\"outlinewidth\":0,\"ticks\":\"\"}}],\"contour\":[{\"type\":\"contour\",\"colorbar\":{\"outlinewidth\":0,\"ticks\":\"\"},\"colorscale\":[[0.0,\"#0d0887\"],[0.1111111111111111,\"#46039f\"],[0.2222222222222222,\"#7201a8\"],[0.3333333333333333,\"#9c179e\"],[0.4444444444444444,\"#bd3786\"],[0.5555555555555556,\"#d8576b\"],[0.6666666666666666,\"#ed7953\"],[0.7777777777777778,\"#fb9f3a\"],[0.8888888888888888,\"#fdca26\"],[1.0,\"#f0f921\"]]}],\"surface\":[{\"type\":\"surface\",\"colorbar\":{\"outlinewidth\":0,\"ticks\":\"\"},\"colorscale\":[[0.0,\"#0d0887\"],[0.1111111111111111,\"#46039f\"],[0.2222222222222222,\"#7201a8\"],[0.3333333333333333,\"#9c179e\"],[0.4444444444444444,\"#bd3786\"],[0.5555555555555556,\"#d8576b\"],[0.6666666666666666,\"#ed7953\"],[0.7777777777777778,\"#fb9f3a\"],[0.8888888888888888,\"#fdca26\"],[1.0,\"#f0f921\"]]}],\"mesh3d\":[{\"type\":\"mesh3d\",\"colorbar\":{\"outlinewidth\":0,\"ticks\":\"\"}}],\"scatter\":[{\"fillpattern\":{\"fillmode\":\"overlay\",\"size\":10,\"solidity\":0.2},\"type\":\"scatter\"}],\"parcoords\":[{\"type\":\"parcoords\",\"line\":{\"colorbar\":{\"outlinewidth\":0,\"ticks\":\"\"}}}],\"scatterpolargl\":[{\"type\":\"scatterpolargl\",\"marker\":{\"colorbar\":{\"outlinewidth\":0,\"ticks\":\"\"}}}],\"bar\":[{\"error_x\":{\"color\":\"#2a3f5f\"},\"error_y\":{\"color\":\"#2a3f5f\"},\"marker\":{\"line\":{\"color\":\"#E5ECF6\",\"width\":0.5},\"pattern\":{\"fillmode\":\"overlay\",\"size\":10,\"solidity\":0.2}},\"type\":\"bar\"}],\"scattergeo\":[{\"type\":\"scattergeo\",\"marker\":{\"colorbar\":{\"outlinewidth\":0,\"ticks\":\"\"}}}],\"scatterpolar\":[{\"type\":\"scatterpolar\",\"marker\":{\"colorbar\":{\"outlinewidth\":0,\"ticks\":\"\"}}}],\"histogram\":[{\"marker\":{\"pattern\":{\"fillmode\":\"overlay\",\"size\":10,\"solidity\":0.2}},\"type\":\"histogram\"}],\"scattergl\":[{\"type\":\"scattergl\",\"marker\":{\"colorbar\":{\"outlinewidth\":0,\"ticks\":\"\"}}}],\"scatter3d\":[{\"type\":\"scatter3d\",\"line\":{\"colorbar\":{\"outlinewidth\":0,\"ticks\":\"\"}},\"marker\":{\"colorbar\":{\"outlinewidth\":0,\"ticks\":\"\"}}}],\"scattermapbox\":[{\"type\":\"scattermapbox\",\"marker\":{\"colorbar\":{\"outlinewidth\":0,\"ticks\":\"\"}}}],\"scatterternary\":[{\"type\":\"scatterternary\",\"marker\":{\"colorbar\":{\"outlinewidth\":0,\"ticks\":\"\"}}}],\"scattercarpet\":[{\"type\":\"scattercarpet\",\"marker\":{\"colorbar\":{\"outlinewidth\":0,\"ticks\":\"\"}}}],\"carpet\":[{\"aaxis\":{\"endlinecolor\":\"#2a3f5f\",\"gridcolor\":\"white\",\"linecolor\":\"white\",\"minorgridcolor\":\"white\",\"startlinecolor\":\"#2a3f5f\"},\"baxis\":{\"endlinecolor\":\"#2a3f5f\",\"gridcolor\":\"white\",\"linecolor\":\"white\",\"minorgridcolor\":\"white\",\"startlinecolor\":\"#2a3f5f\"},\"type\":\"carpet\"}],\"table\":[{\"cells\":{\"fill\":{\"color\":\"#EBF0F8\"},\"line\":{\"color\":\"white\"}},\"header\":{\"fill\":{\"color\":\"#C8D4E3\"},\"line\":{\"color\":\"white\"}},\"type\":\"table\"}],\"barpolar\":[{\"marker\":{\"line\":{\"color\":\"#E5ECF6\",\"width\":0.5},\"pattern\":{\"fillmode\":\"overlay\",\"size\":10,\"solidity\":0.2}},\"type\":\"barpolar\"}],\"pie\":[{\"automargin\":true,\"type\":\"pie\"}]},\"layout\":{\"autotypenumbers\":\"strict\",\"colorway\":[\"#636efa\",\"#EF553B\",\"#00cc96\",\"#ab63fa\",\"#FFA15A\",\"#19d3f3\",\"#FF6692\",\"#B6E880\",\"#FF97FF\",\"#FECB52\"],\"font\":{\"color\":\"#2a3f5f\"},\"hovermode\":\"closest\",\"hoverlabel\":{\"align\":\"left\"},\"paper_bgcolor\":\"white\",\"plot_bgcolor\":\"#E5ECF6\",\"polar\":{\"bgcolor\":\"#E5ECF6\",\"angularaxis\":{\"gridcolor\":\"white\",\"linecolor\":\"white\",\"ticks\":\"\"},\"radialaxis\":{\"gridcolor\":\"white\",\"linecolor\":\"white\",\"ticks\":\"\"}},\"ternary\":{\"bgcolor\":\"#E5ECF6\",\"aaxis\":{\"gridcolor\":\"white\",\"linecolor\":\"white\",\"ticks\":\"\"},\"baxis\":{\"gridcolor\":\"white\",\"linecolor\":\"white\",\"ticks\":\"\"},\"caxis\":{\"gridcolor\":\"white\",\"linecolor\":\"white\",\"ticks\":\"\"}},\"coloraxis\":{\"colorbar\":{\"outlinewidth\":0,\"ticks\":\"\"}},\"colorscale\":{\"sequential\":[[0.0,\"#0d0887\"],[0.1111111111111111,\"#46039f\"],[0.2222222222222222,\"#7201a8\"],[0.3333333333333333,\"#9c179e\"],[0.4444444444444444,\"#bd3786\"],[0.5555555555555556,\"#d8576b\"],[0.6666666666666666,\"#ed7953\"],[0.7777777777777778,\"#fb9f3a\"],[0.8888888888888888,\"#fdca26\"],[1.0,\"#f0f921\"]],\"sequentialminus\":[[0.0,\"#0d0887\"],[0.1111111111111111,\"#46039f\"],[0.2222222222222222,\"#7201a8\"],[0.3333333333333333,\"#9c179e\"],[0.4444444444444444,\"#bd3786\"],[0.5555555555555556,\"#d8576b\"],[0.6666666666666666,\"#ed7953\"],[0.7777777777777778,\"#fb9f3a\"],[0.8888888888888888,\"#fdca26\"],[1.0,\"#f0f921\"]],\"diverging\":[[0,\"#8e0152\"],[0.1,\"#c51b7d\"],[0.2,\"#de77ae\"],[0.3,\"#f1b6da\"],[0.4,\"#fde0ef\"],[0.5,\"#f7f7f7\"],[0.6,\"#e6f5d0\"],[0.7,\"#b8e186\"],[0.8,\"#7fbc41\"],[0.9,\"#4d9221\"],[1,\"#276419\"]]},\"xaxis\":{\"gridcolor\":\"white\",\"linecolor\":\"white\",\"ticks\":\"\",\"title\":{\"standoff\":15},\"zerolinecolor\":\"white\",\"automargin\":true,\"zerolinewidth\":2},\"yaxis\":{\"gridcolor\":\"white\",\"linecolor\":\"white\",\"ticks\":\"\",\"title\":{\"standoff\":15},\"zerolinecolor\":\"white\",\"automargin\":true,\"zerolinewidth\":2},\"scene\":{\"xaxis\":{\"backgroundcolor\":\"#E5ECF6\",\"gridcolor\":\"white\",\"linecolor\":\"white\",\"showbackground\":true,\"ticks\":\"\",\"zerolinecolor\":\"white\",\"gridwidth\":2},\"yaxis\":{\"backgroundcolor\":\"#E5ECF6\",\"gridcolor\":\"white\",\"linecolor\":\"white\",\"showbackground\":true,\"ticks\":\"\",\"zerolinecolor\":\"white\",\"gridwidth\":2},\"zaxis\":{\"backgroundcolor\":\"#E5ECF6\",\"gridcolor\":\"white\",\"linecolor\":\"white\",\"showbackground\":true,\"ticks\":\"\",\"zerolinecolor\":\"white\",\"gridwidth\":2}},\"shapedefaults\":{\"line\":{\"color\":\"#2a3f5f\"}},\"annotationdefaults\":{\"arrowcolor\":\"#2a3f5f\",\"arrowhead\":0,\"arrowwidth\":1},\"geo\":{\"bgcolor\":\"white\",\"landcolor\":\"#E5ECF6\",\"subunitcolor\":\"white\",\"showland\":true,\"showlakes\":true,\"lakecolor\":\"white\"},\"title\":{\"x\":0.05},\"mapbox\":{\"style\":\"light\"}}},\"xaxis\":{\"anchor\":\"y\",\"domain\":[0.0,0.45]},\"yaxis\":{\"anchor\":\"x\",\"domain\":[0.625,1.0]},\"xaxis2\":{\"anchor\":\"y2\",\"domain\":[0.55,1.0]},\"yaxis2\":{\"anchor\":\"x2\",\"domain\":[0.625,1.0]},\"xaxis3\":{\"anchor\":\"y3\",\"domain\":[0.0,0.45]},\"yaxis3\":{\"anchor\":\"x3\",\"domain\":[0.0,0.375]},\"xaxis4\":{\"anchor\":\"y4\",\"domain\":[0.55,1.0]},\"yaxis4\":{\"anchor\":\"x4\",\"domain\":[0.0,0.375]},\"annotations\":[{\"font\":{\"size\":16},\"showarrow\":false,\"text\":\"Total de Inscritos\",\"x\":0.225,\"xanchor\":\"center\",\"xref\":\"paper\",\"y\":1.0,\"yanchor\":\"bottom\",\"yref\":\"paper\"},{\"font\":{\"size\":16},\"showarrow\":false,\"text\":\"Total de Visualiza\\u00e7\\u00f5es\",\"x\":0.775,\"xanchor\":\"center\",\"xref\":\"paper\",\"y\":1.0,\"yanchor\":\"bottom\",\"yref\":\"paper\"},{\"font\":{\"size\":16},\"showarrow\":false,\"text\":\"Total de V\\u00eddeos Publicados\",\"x\":0.225,\"xanchor\":\"center\",\"xref\":\"paper\",\"y\":0.375,\"yanchor\":\"bottom\",\"yref\":\"paper\"},{\"font\":{\"size\":16},\"showarrow\":false,\"text\":\"Ganhos Mensais Estimados\",\"x\":0.775,\"xanchor\":\"center\",\"xref\":\"paper\",\"y\":0.375,\"yanchor\":\"bottom\",\"yref\":\"paper\"}],\"title\":{\"text\":\"Compara\\u00e7\\u00e3o das M\\u00e9tricas do Canal PNation com a M\\u00e9dia do Tipo de Canal\"},\"showlegend\":false},                        {\"responsive\": true}                    ).then(function(){\n",
       "                            \n",
       "var gd = document.getElementById('546800c6-87ed-4404-9c23-c2667c78ddcc');\n",
       "var x = new MutationObserver(function (mutations, observer) {{\n",
       "        var display = window.getComputedStyle(gd).display;\n",
       "        if (!display || display === 'none') {{\n",
       "            console.log([gd, 'removed!']);\n",
       "            Plotly.purge(gd);\n",
       "            observer.disconnect();\n",
       "        }}\n",
       "}});\n",
       "\n",
       "// Listen for the removal of the full notebook cells\n",
       "var notebookContainer = gd.closest('#notebook-container');\n",
       "if (notebookContainer) {{\n",
       "    x.observe(notebookContainer, {childList: true});\n",
       "}}\n",
       "\n",
       "// Listen for the clearing of the current output cell\n",
       "var outputEl = gd.closest('.output');\n",
       "if (outputEl) {{\n",
       "    x.observe(outputEl, {childList: true});\n",
       "}}\n",
       "\n",
       "                        })                };                });            </script>        </div>"
      ]
     },
     "metadata": {},
     "output_type": "display_data"
    }
   ],
   "source": [
    "import plotly.graph_objects as go\n",
    "from plotly.subplots import make_subplots\n",
    "import pandas as pd\n",
    "\n",
    "# Filtrar dados para o canal \"PNation\" de Angola\n",
    "canal_nome = 'PNation'\n",
    "pais_nome = 'Angola'\n",
    "canal_info = dados[(dados['nome_do_canal'] == canal_nome) & (dados['pais'] == pais_nome)].iloc[0]\n",
    "\n",
    "# Calcular a média das métricas para o mesmo tipo de canal\n",
    "tipo_do_canal = canal_info['tipo_do_canal']\n",
    "dados_tipo_canal = dados[dados['tipo_do_canal'] == tipo_do_canal]\n",
    "\n",
    "# Selecionar apenas as colunas numéricas\n",
    "dados_tipo_canal_numerico = dados_tipo_canal.select_dtypes(include=['float64', 'int64']).mean()\n",
    "\n",
    "# Criar DataFrames individuais para cada métrica\n",
    "metrics = ['Total de Inscritos', 'Total de Visualizações', 'Total de Vídeos Publicados', 'Ganhos Mensais Estimados']\n",
    "values_canal = [canal_info['total_de_inscritos'], canal_info['total_de_visualizacoes'], canal_info['total_de_videos_publicado'], canal_info['ganhos_mensais_estimados_minimo']]\n",
    "values_media_tipo = [dados_tipo_canal_numerico['total_de_inscritos'], dados_tipo_canal_numerico['total_de_visualizacoes'], dados_tipo_canal_numerico['total_de_videos_publicado'], dados_tipo_canal_numerico['ganhos_mensais_estimados_minimo']]\n",
    "\n",
    "# Criar subplots\n",
    "fig = make_subplots(rows=2, cols=2, subplot_titles=metrics)\n",
    "\n",
    "# Adicionar gráficos de barras\n",
    "for i, metrica in enumerate(metrics):\n",
    "    comparacao_metrica = {\n",
    "        'Categoria': ['Valor Canal', 'Valor Médio Tipo'],\n",
    "        'Valor': [values_canal[i], values_media_tipo[i]]\n",
    "    }\n",
    "    comparacao_df = pd.DataFrame(comparacao_metrica)\n",
    "\n",
    "    # Adicionar gráfico de barras ao subplot\n",
    "    fig.add_trace(\n",
    "        go.Bar(name=metrica, x=comparacao_df['Categoria'], y=comparacao_df['Valor']),\n",
    "        row=(i//2)+1, col=(i%2)+1\n",
    "    )\n",
    "\n",
    "# Atualizar layout do gráfico\n",
    "fig.update_layout(title_text=f'Comparação das Métricas do Canal {canal_nome} com a Média do Tipo de Canal', showlegend=False)\n",
    "fig.show()"
   ]
  },
  {
   "cell_type": "code",
   "execution_count": null,
   "id": "19f3feb4",
   "metadata": {},
   "outputs": [],
   "source": []
  }
 ],
 "metadata": {
  "kernelspec": {
   "display_name": "Python 3 (ipykernel)",
   "language": "python",
   "name": "python3"
  },
  "language_info": {
   "codemirror_mode": {
    "name": "ipython",
    "version": 3
   },
   "file_extension": ".py",
   "mimetype": "text/x-python",
   "name": "python",
   "nbconvert_exporter": "python",
   "pygments_lexer": "ipython3",
   "version": "3.9.7"
  }
 },
 "nbformat": 4,
 "nbformat_minor": 5
}
